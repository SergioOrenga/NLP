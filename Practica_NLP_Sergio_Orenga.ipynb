{
  "nbformat": 4,
  "nbformat_minor": 0,
  "metadata": {
    "colab": {
      "name": "Practica_NLP_Sergio Orenga.ipynb",
      "provenance": [],
      "collapsed_sections": []
    },
    "kernelspec": {
      "name": "python3",
      "display_name": "Python 3"
    },
    "language_info": {
      "name": "python"
    },
    "accelerator": "GPU"
  },
  "cells": [
    {
      "cell_type": "markdown",
      "source": [
        "# Este es el entregable de la práctica del módulo **NLP**"
      ],
      "metadata": {
        "id": "rdCqOn289x9o"
      }
    },
    {
      "cell_type": "markdown",
      "source": [
        "El objetivo de la práctica es realizar un análisis de sentimiento acerca de reviews de productos de Amazon.\n",
        "\n",
        "En concreto se han elegido las categorías de reviews de Digital Music y Musical Instruments.\n",
        "\n",
        "El formato por el que se ha optado para la presentación de la práctica es en un sólo notebook en el que se encuentran los cuatro ejercicios propuestos."
      ],
      "metadata": {
        "id": "2ouqWyoi-drv"
      }
    },
    {
      "cell_type": "markdown",
      "source": [
        "# **1. Descarga y exploración del corpus**"
      ],
      "metadata": {
        "id": "RIjqzvI_YmvF"
      }
    },
    {
      "cell_type": "code",
      "execution_count": 1,
      "metadata": {
        "colab": {
          "base_uri": "https://localhost:8080/"
        },
        "id": "_meoxKj59nkO",
        "outputId": "956cd6b9-0d49-4f62-8e17-4f9ef223d656"
      },
      "outputs": [
        {
          "output_type": "stream",
          "name": "stdout",
          "text": [
            "Mounted at /content/drive\n"
          ]
        }
      ],
      "source": [
        "# Se conecta con google Drive\n",
        "from google.colab import drive\n",
        "drive.mount('/content/drive')"
      ]
    },
    {
      "cell_type": "code",
      "source": [
        "# Se accede a la carpeta de Google Drive donde están ubicados los archivos de las reviews sobre las que se va a trabajar\n",
        "%cd /content/drive/MyDrive/NLP/"
      ],
      "metadata": {
        "colab": {
          "base_uri": "https://localhost:8080/"
        },
        "id": "Rm43GI9T_G0e",
        "outputId": "e7b58038-345b-4c5c-adfa-ae294fcd8b59"
      },
      "execution_count": 2,
      "outputs": [
        {
          "output_type": "stream",
          "name": "stdout",
          "text": [
            "/content/drive/MyDrive/NLP\n"
          ]
        }
      ]
    },
    {
      "cell_type": "code",
      "source": [
        "!ls -ll"
      ],
      "metadata": {
        "colab": {
          "base_uri": "https://localhost:8080/"
        },
        "id": "tTcUsw31_OjV",
        "outputId": "7ac874a4-39e9-4e97-b5d7-116ac72c4c08"
      },
      "execution_count": 3,
      "outputs": [
        {
          "output_type": "stream",
          "name": "stdout",
          "text": [
            "total 139097\n",
            "-rw------- 1 root root  32052614 Feb 12 22:22 reviews_Digital_Music_5.json.gz\n",
            "-rw------- 1 root root   2460495 Feb 12 22:22 reviews_Musical_Instruments_5.json.gz\n",
            "-rw------- 1 root root 107921815 Feb 15 23:56 w2v_sg_d200_mc5_w10.pkl\n"
          ]
        }
      ]
    },
    {
      "cell_type": "code",
      "source": [
        "# Se descomprimen y se leen los datasets utilizando Pandas y se muestran las primeras filas \n",
        "import pandas as pd\n",
        "dataDM = pd.read_json('reviews_Digital_Music_5.json.gz', lines = True, compression = 'gzip')\n",
        "dataDM.head(10)"
      ],
      "metadata": {
        "colab": {
          "base_uri": "https://localhost:8080/",
          "height": 598
        },
        "id": "N4531f83_Vtz",
        "outputId": "9b013c1f-3248-441a-e0d7-7c0c425ad8a2"
      },
      "execution_count": 4,
      "outputs": [
        {
          "output_type": "execute_result",
          "data": {
            "text/html": [
              "\n",
              "  <div id=\"df-f5aa3df2-108a-4b8d-a277-d6bd6e2d51a7\">\n",
              "    <div class=\"colab-df-container\">\n",
              "      <div>\n",
              "<style scoped>\n",
              "    .dataframe tbody tr th:only-of-type {\n",
              "        vertical-align: middle;\n",
              "    }\n",
              "\n",
              "    .dataframe tbody tr th {\n",
              "        vertical-align: top;\n",
              "    }\n",
              "\n",
              "    .dataframe thead th {\n",
              "        text-align: right;\n",
              "    }\n",
              "</style>\n",
              "<table border=\"1\" class=\"dataframe\">\n",
              "  <thead>\n",
              "    <tr style=\"text-align: right;\">\n",
              "      <th></th>\n",
              "      <th>reviewerID</th>\n",
              "      <th>asin</th>\n",
              "      <th>reviewerName</th>\n",
              "      <th>helpful</th>\n",
              "      <th>reviewText</th>\n",
              "      <th>overall</th>\n",
              "      <th>summary</th>\n",
              "      <th>unixReviewTime</th>\n",
              "      <th>reviewTime</th>\n",
              "    </tr>\n",
              "  </thead>\n",
              "  <tbody>\n",
              "    <tr>\n",
              "      <th>0</th>\n",
              "      <td>A3EBHHCZO6V2A4</td>\n",
              "      <td>5555991584</td>\n",
              "      <td>Amaranth \"music fan\"</td>\n",
              "      <td>[3, 3]</td>\n",
              "      <td>It's hard to believe \"Memory of Trees\" came ou...</td>\n",
              "      <td>5</td>\n",
              "      <td>Enya's last great album</td>\n",
              "      <td>1158019200</td>\n",
              "      <td>09 12, 2006</td>\n",
              "    </tr>\n",
              "    <tr>\n",
              "      <th>1</th>\n",
              "      <td>AZPWAXJG9OJXV</td>\n",
              "      <td>5555991584</td>\n",
              "      <td>bethtexas</td>\n",
              "      <td>[0, 0]</td>\n",
              "      <td>A clasically-styled and introverted album, Mem...</td>\n",
              "      <td>5</td>\n",
              "      <td>Enya at her most elegant</td>\n",
              "      <td>991526400</td>\n",
              "      <td>06 3, 2001</td>\n",
              "    </tr>\n",
              "    <tr>\n",
              "      <th>2</th>\n",
              "      <td>A38IRL0X2T4DPF</td>\n",
              "      <td>5555991584</td>\n",
              "      <td>bob turnley</td>\n",
              "      <td>[2, 2]</td>\n",
              "      <td>I never thought Enya would reach the sublime h...</td>\n",
              "      <td>5</td>\n",
              "      <td>The best so far</td>\n",
              "      <td>1058140800</td>\n",
              "      <td>07 14, 2003</td>\n",
              "    </tr>\n",
              "    <tr>\n",
              "      <th>3</th>\n",
              "      <td>A22IK3I6U76GX0</td>\n",
              "      <td>5555991584</td>\n",
              "      <td>Calle</td>\n",
              "      <td>[1, 1]</td>\n",
              "      <td>This is the third review of an irish album I w...</td>\n",
              "      <td>5</td>\n",
              "      <td>Ireland produces good music.</td>\n",
              "      <td>957312000</td>\n",
              "      <td>05 3, 2000</td>\n",
              "    </tr>\n",
              "    <tr>\n",
              "      <th>4</th>\n",
              "      <td>A1AISPOIIHTHXX</td>\n",
              "      <td>5555991584</td>\n",
              "      <td>Cloud \"...\"</td>\n",
              "      <td>[1, 1]</td>\n",
              "      <td>Enya, despite being a successful recording art...</td>\n",
              "      <td>4</td>\n",
              "      <td>4.5; music to dream to</td>\n",
              "      <td>1200528000</td>\n",
              "      <td>01 17, 2008</td>\n",
              "    </tr>\n",
              "    <tr>\n",
              "      <th>5</th>\n",
              "      <td>A2P49WD75WHAG5</td>\n",
              "      <td>5555991584</td>\n",
              "      <td>Daniel J. Hamlow</td>\n",
              "      <td>[62, 65]</td>\n",
              "      <td>Who knows why I initially considered this to b...</td>\n",
              "      <td>5</td>\n",
              "      <td>Dreamy unearthly magic continues with Eire's o...</td>\n",
              "      <td>1059523200</td>\n",
              "      <td>07 30, 2003</td>\n",
              "    </tr>\n",
              "    <tr>\n",
              "      <th>6</th>\n",
              "      <td>A3O90G1D7I5EGG</td>\n",
              "      <td>5555991584</td>\n",
              "      <td>dev1</td>\n",
              "      <td>[1, 5]</td>\n",
              "      <td>Enya is one of a few artists whom I consider s...</td>\n",
              "      <td>3</td>\n",
              "      <td>Have You Hugged A Tree Today?</td>\n",
              "      <td>959385600</td>\n",
              "      <td>05 27, 2000</td>\n",
              "    </tr>\n",
              "    <tr>\n",
              "      <th>7</th>\n",
              "      <td>A3EJYJC25OJVKK</td>\n",
              "      <td>5555991584</td>\n",
              "      <td>Distant Voyageur \"Nicholas Computer\"</td>\n",
              "      <td>[5, 5]</td>\n",
              "      <td>Enya is one of of the most mysterious singers ...</td>\n",
              "      <td>5</td>\n",
              "      <td>The album for a romantic autumn evening</td>\n",
              "      <td>1040428800</td>\n",
              "      <td>12 21, 2002</td>\n",
              "    </tr>\n",
              "    <tr>\n",
              "      <th>8</th>\n",
              "      <td>A1DA8VOH9NR6C7</td>\n",
              "      <td>5555991584</td>\n",
              "      <td>E. Minkovitch</td>\n",
              "      <td>[4, 4]</td>\n",
              "      <td>This is not another lousy Celtic New Age album...</td>\n",
              "      <td>5</td>\n",
              "      <td>Simply wonderful.</td>\n",
              "      <td>1167868800</td>\n",
              "      <td>01 4, 2007</td>\n",
              "    </tr>\n",
              "    <tr>\n",
              "      <th>9</th>\n",
              "      <td>A33TRNCQK4IUO7</td>\n",
              "      <td>5555991584</td>\n",
              "      <td>guillermoj</td>\n",
              "      <td>[12, 12]</td>\n",
              "      <td>Many times, AND WITH GOOD REASON, the \"new age...</td>\n",
              "      <td>5</td>\n",
              "      <td>A true gem, even if you don't love conventiona...</td>\n",
              "      <td>1052697600</td>\n",
              "      <td>05 12, 2003</td>\n",
              "    </tr>\n",
              "  </tbody>\n",
              "</table>\n",
              "</div>\n",
              "      <button class=\"colab-df-convert\" onclick=\"convertToInteractive('df-f5aa3df2-108a-4b8d-a277-d6bd6e2d51a7')\"\n",
              "              title=\"Convert this dataframe to an interactive table.\"\n",
              "              style=\"display:none;\">\n",
              "        \n",
              "  <svg xmlns=\"http://www.w3.org/2000/svg\" height=\"24px\"viewBox=\"0 0 24 24\"\n",
              "       width=\"24px\">\n",
              "    <path d=\"M0 0h24v24H0V0z\" fill=\"none\"/>\n",
              "    <path d=\"M18.56 5.44l.94 2.06.94-2.06 2.06-.94-2.06-.94-.94-2.06-.94 2.06-2.06.94zm-11 1L8.5 8.5l.94-2.06 2.06-.94-2.06-.94L8.5 2.5l-.94 2.06-2.06.94zm10 10l.94 2.06.94-2.06 2.06-.94-2.06-.94-.94-2.06-.94 2.06-2.06.94z\"/><path d=\"M17.41 7.96l-1.37-1.37c-.4-.4-.92-.59-1.43-.59-.52 0-1.04.2-1.43.59L10.3 9.45l-7.72 7.72c-.78.78-.78 2.05 0 2.83L4 21.41c.39.39.9.59 1.41.59.51 0 1.02-.2 1.41-.59l7.78-7.78 2.81-2.81c.8-.78.8-2.07 0-2.86zM5.41 20L4 18.59l7.72-7.72 1.47 1.35L5.41 20z\"/>\n",
              "  </svg>\n",
              "      </button>\n",
              "      \n",
              "  <style>\n",
              "    .colab-df-container {\n",
              "      display:flex;\n",
              "      flex-wrap:wrap;\n",
              "      gap: 12px;\n",
              "    }\n",
              "\n",
              "    .colab-df-convert {\n",
              "      background-color: #E8F0FE;\n",
              "      border: none;\n",
              "      border-radius: 50%;\n",
              "      cursor: pointer;\n",
              "      display: none;\n",
              "      fill: #1967D2;\n",
              "      height: 32px;\n",
              "      padding: 0 0 0 0;\n",
              "      width: 32px;\n",
              "    }\n",
              "\n",
              "    .colab-df-convert:hover {\n",
              "      background-color: #E2EBFA;\n",
              "      box-shadow: 0px 1px 2px rgba(60, 64, 67, 0.3), 0px 1px 3px 1px rgba(60, 64, 67, 0.15);\n",
              "      fill: #174EA6;\n",
              "    }\n",
              "\n",
              "    [theme=dark] .colab-df-convert {\n",
              "      background-color: #3B4455;\n",
              "      fill: #D2E3FC;\n",
              "    }\n",
              "\n",
              "    [theme=dark] .colab-df-convert:hover {\n",
              "      background-color: #434B5C;\n",
              "      box-shadow: 0px 1px 3px 1px rgba(0, 0, 0, 0.15);\n",
              "      filter: drop-shadow(0px 1px 2px rgba(0, 0, 0, 0.3));\n",
              "      fill: #FFFFFF;\n",
              "    }\n",
              "  </style>\n",
              "\n",
              "      <script>\n",
              "        const buttonEl =\n",
              "          document.querySelector('#df-f5aa3df2-108a-4b8d-a277-d6bd6e2d51a7 button.colab-df-convert');\n",
              "        buttonEl.style.display =\n",
              "          google.colab.kernel.accessAllowed ? 'block' : 'none';\n",
              "\n",
              "        async function convertToInteractive(key) {\n",
              "          const element = document.querySelector('#df-f5aa3df2-108a-4b8d-a277-d6bd6e2d51a7');\n",
              "          const dataTable =\n",
              "            await google.colab.kernel.invokeFunction('convertToInteractive',\n",
              "                                                     [key], {});\n",
              "          if (!dataTable) return;\n",
              "\n",
              "          const docLinkHtml = 'Like what you see? Visit the ' +\n",
              "            '<a target=\"_blank\" href=https://colab.research.google.com/notebooks/data_table.ipynb>data table notebook</a>'\n",
              "            + ' to learn more about interactive tables.';\n",
              "          element.innerHTML = '';\n",
              "          dataTable['output_type'] = 'display_data';\n",
              "          await google.colab.output.renderOutput(dataTable, element);\n",
              "          const docLink = document.createElement('div');\n",
              "          docLink.innerHTML = docLinkHtml;\n",
              "          element.appendChild(docLink);\n",
              "        }\n",
              "      </script>\n",
              "    </div>\n",
              "  </div>\n",
              "  "
            ],
            "text/plain": [
              "       reviewerID        asin  ... unixReviewTime   reviewTime\n",
              "0  A3EBHHCZO6V2A4  5555991584  ...     1158019200  09 12, 2006\n",
              "1   AZPWAXJG9OJXV  5555991584  ...      991526400   06 3, 2001\n",
              "2  A38IRL0X2T4DPF  5555991584  ...     1058140800  07 14, 2003\n",
              "3  A22IK3I6U76GX0  5555991584  ...      957312000   05 3, 2000\n",
              "4  A1AISPOIIHTHXX  5555991584  ...     1200528000  01 17, 2008\n",
              "5  A2P49WD75WHAG5  5555991584  ...     1059523200  07 30, 2003\n",
              "6  A3O90G1D7I5EGG  5555991584  ...      959385600  05 27, 2000\n",
              "7  A3EJYJC25OJVKK  5555991584  ...     1040428800  12 21, 2002\n",
              "8  A1DA8VOH9NR6C7  5555991584  ...     1167868800   01 4, 2007\n",
              "9  A33TRNCQK4IUO7  5555991584  ...     1052697600  05 12, 2003\n",
              "\n",
              "[10 rows x 9 columns]"
            ]
          },
          "metadata": {},
          "execution_count": 4
        }
      ]
    },
    {
      "cell_type": "code",
      "source": [
        "dataMI = pd.read_json('reviews_Musical_Instruments_5.json.gz', lines = True, compression = 'gzip')\n",
        "dataMI.head(10)"
      ],
      "metadata": {
        "colab": {
          "base_uri": "https://localhost:8080/",
          "height": 581
        },
        "id": "pZRm-x2SJCQF",
        "outputId": "d8f7afc4-2910-4418-a06d-0030a601d71d"
      },
      "execution_count": 5,
      "outputs": [
        {
          "output_type": "execute_result",
          "data": {
            "text/html": [
              "\n",
              "  <div id=\"df-897fb49b-e771-4000-b2ab-0e793d84fa43\">\n",
              "    <div class=\"colab-df-container\">\n",
              "      <div>\n",
              "<style scoped>\n",
              "    .dataframe tbody tr th:only-of-type {\n",
              "        vertical-align: middle;\n",
              "    }\n",
              "\n",
              "    .dataframe tbody tr th {\n",
              "        vertical-align: top;\n",
              "    }\n",
              "\n",
              "    .dataframe thead th {\n",
              "        text-align: right;\n",
              "    }\n",
              "</style>\n",
              "<table border=\"1\" class=\"dataframe\">\n",
              "  <thead>\n",
              "    <tr style=\"text-align: right;\">\n",
              "      <th></th>\n",
              "      <th>reviewerID</th>\n",
              "      <th>asin</th>\n",
              "      <th>reviewerName</th>\n",
              "      <th>helpful</th>\n",
              "      <th>reviewText</th>\n",
              "      <th>overall</th>\n",
              "      <th>summary</th>\n",
              "      <th>unixReviewTime</th>\n",
              "      <th>reviewTime</th>\n",
              "    </tr>\n",
              "  </thead>\n",
              "  <tbody>\n",
              "    <tr>\n",
              "      <th>0</th>\n",
              "      <td>A2IBPI20UZIR0U</td>\n",
              "      <td>1384719342</td>\n",
              "      <td>cassandra tu \"Yeah, well, that's just like, u...</td>\n",
              "      <td>[0, 0]</td>\n",
              "      <td>Not much to write about here, but it does exac...</td>\n",
              "      <td>5</td>\n",
              "      <td>good</td>\n",
              "      <td>1393545600</td>\n",
              "      <td>02 28, 2014</td>\n",
              "    </tr>\n",
              "    <tr>\n",
              "      <th>1</th>\n",
              "      <td>A14VAT5EAX3D9S</td>\n",
              "      <td>1384719342</td>\n",
              "      <td>Jake</td>\n",
              "      <td>[13, 14]</td>\n",
              "      <td>The product does exactly as it should and is q...</td>\n",
              "      <td>5</td>\n",
              "      <td>Jake</td>\n",
              "      <td>1363392000</td>\n",
              "      <td>03 16, 2013</td>\n",
              "    </tr>\n",
              "    <tr>\n",
              "      <th>2</th>\n",
              "      <td>A195EZSQDW3E21</td>\n",
              "      <td>1384719342</td>\n",
              "      <td>Rick Bennette \"Rick Bennette\"</td>\n",
              "      <td>[1, 1]</td>\n",
              "      <td>The primary job of this device is to block the...</td>\n",
              "      <td>5</td>\n",
              "      <td>It Does The Job Well</td>\n",
              "      <td>1377648000</td>\n",
              "      <td>08 28, 2013</td>\n",
              "    </tr>\n",
              "    <tr>\n",
              "      <th>3</th>\n",
              "      <td>A2C00NNG1ZQQG2</td>\n",
              "      <td>1384719342</td>\n",
              "      <td>RustyBill \"Sunday Rocker\"</td>\n",
              "      <td>[0, 0]</td>\n",
              "      <td>Nice windscreen protects my MXL mic and preven...</td>\n",
              "      <td>5</td>\n",
              "      <td>GOOD WINDSCREEN FOR THE MONEY</td>\n",
              "      <td>1392336000</td>\n",
              "      <td>02 14, 2014</td>\n",
              "    </tr>\n",
              "    <tr>\n",
              "      <th>4</th>\n",
              "      <td>A94QU4C90B1AX</td>\n",
              "      <td>1384719342</td>\n",
              "      <td>SEAN MASLANKA</td>\n",
              "      <td>[0, 0]</td>\n",
              "      <td>This pop filter is great. It looks and perform...</td>\n",
              "      <td>5</td>\n",
              "      <td>No more pops when I record my vocals.</td>\n",
              "      <td>1392940800</td>\n",
              "      <td>02 21, 2014</td>\n",
              "    </tr>\n",
              "    <tr>\n",
              "      <th>5</th>\n",
              "      <td>A2A039TZMZHH9Y</td>\n",
              "      <td>B00004Y2UT</td>\n",
              "      <td>Bill Lewey \"blewey\"</td>\n",
              "      <td>[0, 0]</td>\n",
              "      <td>So good that I bought another one.  Love the h...</td>\n",
              "      <td>5</td>\n",
              "      <td>The Best Cable</td>\n",
              "      <td>1356048000</td>\n",
              "      <td>12 21, 2012</td>\n",
              "    </tr>\n",
              "    <tr>\n",
              "      <th>6</th>\n",
              "      <td>A1UPZM995ZAH90</td>\n",
              "      <td>B00004Y2UT</td>\n",
              "      <td>Brian</td>\n",
              "      <td>[0, 0]</td>\n",
              "      <td>I have used monster cables for years, and with...</td>\n",
              "      <td>5</td>\n",
              "      <td>Monster Standard 100 - 21' Instrument Cable</td>\n",
              "      <td>1390089600</td>\n",
              "      <td>01 19, 2014</td>\n",
              "    </tr>\n",
              "    <tr>\n",
              "      <th>7</th>\n",
              "      <td>AJNFQI3YR6XJ5</td>\n",
              "      <td>B00004Y2UT</td>\n",
              "      <td>Fender Guy \"Rick\"</td>\n",
              "      <td>[0, 0]</td>\n",
              "      <td>I now use this cable to run from the output of...</td>\n",
              "      <td>3</td>\n",
              "      <td>Didn't fit my 1996 Fender Strat...</td>\n",
              "      <td>1353024000</td>\n",
              "      <td>11 16, 2012</td>\n",
              "    </tr>\n",
              "    <tr>\n",
              "      <th>8</th>\n",
              "      <td>A3M1PLEYNDEYO8</td>\n",
              "      <td>B00004Y2UT</td>\n",
              "      <td>G. Thomas \"Tom\"</td>\n",
              "      <td>[0, 0]</td>\n",
              "      <td>Perfect for my Epiphone Sheraton II.  Monster ...</td>\n",
              "      <td>5</td>\n",
              "      <td>Great cable</td>\n",
              "      <td>1215302400</td>\n",
              "      <td>07 6, 2008</td>\n",
              "    </tr>\n",
              "    <tr>\n",
              "      <th>9</th>\n",
              "      <td>AMNTZU1YQN1TH</td>\n",
              "      <td>B00004Y2UT</td>\n",
              "      <td>Kurt Robair</td>\n",
              "      <td>[0, 0]</td>\n",
              "      <td>Monster makes the best cables and a lifetime w...</td>\n",
              "      <td>5</td>\n",
              "      <td>Best Instrument Cables On The Market</td>\n",
              "      <td>1389139200</td>\n",
              "      <td>01 8, 2014</td>\n",
              "    </tr>\n",
              "  </tbody>\n",
              "</table>\n",
              "</div>\n",
              "      <button class=\"colab-df-convert\" onclick=\"convertToInteractive('df-897fb49b-e771-4000-b2ab-0e793d84fa43')\"\n",
              "              title=\"Convert this dataframe to an interactive table.\"\n",
              "              style=\"display:none;\">\n",
              "        \n",
              "  <svg xmlns=\"http://www.w3.org/2000/svg\" height=\"24px\"viewBox=\"0 0 24 24\"\n",
              "       width=\"24px\">\n",
              "    <path d=\"M0 0h24v24H0V0z\" fill=\"none\"/>\n",
              "    <path d=\"M18.56 5.44l.94 2.06.94-2.06 2.06-.94-2.06-.94-.94-2.06-.94 2.06-2.06.94zm-11 1L8.5 8.5l.94-2.06 2.06-.94-2.06-.94L8.5 2.5l-.94 2.06-2.06.94zm10 10l.94 2.06.94-2.06 2.06-.94-2.06-.94-.94-2.06-.94 2.06-2.06.94z\"/><path d=\"M17.41 7.96l-1.37-1.37c-.4-.4-.92-.59-1.43-.59-.52 0-1.04.2-1.43.59L10.3 9.45l-7.72 7.72c-.78.78-.78 2.05 0 2.83L4 21.41c.39.39.9.59 1.41.59.51 0 1.02-.2 1.41-.59l7.78-7.78 2.81-2.81c.8-.78.8-2.07 0-2.86zM5.41 20L4 18.59l7.72-7.72 1.47 1.35L5.41 20z\"/>\n",
              "  </svg>\n",
              "      </button>\n",
              "      \n",
              "  <style>\n",
              "    .colab-df-container {\n",
              "      display:flex;\n",
              "      flex-wrap:wrap;\n",
              "      gap: 12px;\n",
              "    }\n",
              "\n",
              "    .colab-df-convert {\n",
              "      background-color: #E8F0FE;\n",
              "      border: none;\n",
              "      border-radius: 50%;\n",
              "      cursor: pointer;\n",
              "      display: none;\n",
              "      fill: #1967D2;\n",
              "      height: 32px;\n",
              "      padding: 0 0 0 0;\n",
              "      width: 32px;\n",
              "    }\n",
              "\n",
              "    .colab-df-convert:hover {\n",
              "      background-color: #E2EBFA;\n",
              "      box-shadow: 0px 1px 2px rgba(60, 64, 67, 0.3), 0px 1px 3px 1px rgba(60, 64, 67, 0.15);\n",
              "      fill: #174EA6;\n",
              "    }\n",
              "\n",
              "    [theme=dark] .colab-df-convert {\n",
              "      background-color: #3B4455;\n",
              "      fill: #D2E3FC;\n",
              "    }\n",
              "\n",
              "    [theme=dark] .colab-df-convert:hover {\n",
              "      background-color: #434B5C;\n",
              "      box-shadow: 0px 1px 3px 1px rgba(0, 0, 0, 0.15);\n",
              "      filter: drop-shadow(0px 1px 2px rgba(0, 0, 0, 0.3));\n",
              "      fill: #FFFFFF;\n",
              "    }\n",
              "  </style>\n",
              "\n",
              "      <script>\n",
              "        const buttonEl =\n",
              "          document.querySelector('#df-897fb49b-e771-4000-b2ab-0e793d84fa43 button.colab-df-convert');\n",
              "        buttonEl.style.display =\n",
              "          google.colab.kernel.accessAllowed ? 'block' : 'none';\n",
              "\n",
              "        async function convertToInteractive(key) {\n",
              "          const element = document.querySelector('#df-897fb49b-e771-4000-b2ab-0e793d84fa43');\n",
              "          const dataTable =\n",
              "            await google.colab.kernel.invokeFunction('convertToInteractive',\n",
              "                                                     [key], {});\n",
              "          if (!dataTable) return;\n",
              "\n",
              "          const docLinkHtml = 'Like what you see? Visit the ' +\n",
              "            '<a target=\"_blank\" href=https://colab.research.google.com/notebooks/data_table.ipynb>data table notebook</a>'\n",
              "            + ' to learn more about interactive tables.';\n",
              "          element.innerHTML = '';\n",
              "          dataTable['output_type'] = 'display_data';\n",
              "          await google.colab.output.renderOutput(dataTable, element);\n",
              "          const docLink = document.createElement('div');\n",
              "          docLink.innerHTML = docLinkHtml;\n",
              "          element.appendChild(docLink);\n",
              "        }\n",
              "      </script>\n",
              "    </div>\n",
              "  </div>\n",
              "  "
            ],
            "text/plain": [
              "       reviewerID        asin  ... unixReviewTime   reviewTime\n",
              "0  A2IBPI20UZIR0U  1384719342  ...     1393545600  02 28, 2014\n",
              "1  A14VAT5EAX3D9S  1384719342  ...     1363392000  03 16, 2013\n",
              "2  A195EZSQDW3E21  1384719342  ...     1377648000  08 28, 2013\n",
              "3  A2C00NNG1ZQQG2  1384719342  ...     1392336000  02 14, 2014\n",
              "4   A94QU4C90B1AX  1384719342  ...     1392940800  02 21, 2014\n",
              "5  A2A039TZMZHH9Y  B00004Y2UT  ...     1356048000  12 21, 2012\n",
              "6  A1UPZM995ZAH90  B00004Y2UT  ...     1390089600  01 19, 2014\n",
              "7   AJNFQI3YR6XJ5  B00004Y2UT  ...     1353024000  11 16, 2012\n",
              "8  A3M1PLEYNDEYO8  B00004Y2UT  ...     1215302400   07 6, 2008\n",
              "9   AMNTZU1YQN1TH  B00004Y2UT  ...     1389139200   01 8, 2014\n",
              "\n",
              "[10 rows x 9 columns]"
            ]
          },
          "metadata": {},
          "execution_count": 5
        }
      ]
    },
    {
      "cell_type": "markdown",
      "source": [
        "Ahora se comprueba la forma de los datasets (las filas y columnas)"
      ],
      "metadata": {
        "id": "Yw5GGP4p0ygO"
      }
    },
    {
      "cell_type": "code",
      "source": [
        "dataDM.shape"
      ],
      "metadata": {
        "colab": {
          "base_uri": "https://localhost:8080/"
        },
        "id": "9PEsv1cP_Z-H",
        "outputId": "dbb00109-55b0-4978-aac3-3707db467618"
      },
      "execution_count": 6,
      "outputs": [
        {
          "output_type": "execute_result",
          "data": {
            "text/plain": [
              "(64706, 9)"
            ]
          },
          "metadata": {},
          "execution_count": 6
        }
      ]
    },
    {
      "cell_type": "code",
      "source": [
        "dataMI.shape"
      ],
      "metadata": {
        "colab": {
          "base_uri": "https://localhost:8080/"
        },
        "id": "wNC9RImFJRob",
        "outputId": "7597bdaf-7399-4667-bef4-f7aaa4124ab2"
      },
      "execution_count": 7,
      "outputs": [
        {
          "output_type": "execute_result",
          "data": {
            "text/plain": [
              "(10261, 9)"
            ]
          },
          "metadata": {},
          "execution_count": 7
        }
      ]
    },
    {
      "cell_type": "code",
      "source": [
        "# Nombres de las columnas\n",
        "dataDM.columns"
      ],
      "metadata": {
        "id": "6NK4_ltW_amT",
        "colab": {
          "base_uri": "https://localhost:8080/"
        },
        "outputId": "6edfcff1-bc0c-494d-b8c3-7680c49d529e"
      },
      "execution_count": 8,
      "outputs": [
        {
          "output_type": "execute_result",
          "data": {
            "text/plain": [
              "Index(['reviewerID', 'asin', 'reviewerName', 'helpful', 'reviewText',\n",
              "       'overall', 'summary', 'unixReviewTime', 'reviewTime'],\n",
              "      dtype='object')"
            ]
          },
          "metadata": {},
          "execution_count": 8
        }
      ]
    },
    {
      "cell_type": "code",
      "source": [
        "dataMI.columns"
      ],
      "metadata": {
        "colab": {
          "base_uri": "https://localhost:8080/"
        },
        "id": "Ljba1TZF1Y6C",
        "outputId": "883adcfa-d976-45bb-dfa2-27c716ba9e31"
      },
      "execution_count": 9,
      "outputs": [
        {
          "output_type": "execute_result",
          "data": {
            "text/plain": [
              "Index(['reviewerID', 'asin', 'reviewerName', 'helpful', 'reviewText',\n",
              "       'overall', 'summary', 'unixReviewTime', 'reviewTime'],\n",
              "      dtype='object')"
            ]
          },
          "metadata": {},
          "execution_count": 9
        }
      ]
    },
    {
      "cell_type": "markdown",
      "source": [
        "Se concatenan los dos datasets (el de Digial Music y el de Musical Instruments) para trabajar con el dataset resultante."
      ],
      "metadata": {
        "id": "8c6AEnkt2nPT"
      }
    },
    {
      "cell_type": "code",
      "source": [
        "data_inicial = pd.concat([dataDM, dataMI])\n",
        "data_inicial.shape"
      ],
      "metadata": {
        "colab": {
          "base_uri": "https://localhost:8080/"
        },
        "id": "dklA7Vd02mg_",
        "outputId": "9f83d2d7-9b86-4df7-c943-a0650326a9ab"
      },
      "execution_count": 10,
      "outputs": [
        {
          "output_type": "execute_result",
          "data": {
            "text/plain": [
              "(74967, 9)"
            ]
          },
          "metadata": {},
          "execution_count": 10
        }
      ]
    },
    {
      "cell_type": "markdown",
      "source": [
        "Se comprueban los valores de la puntuación de cada review almacenadas en la variable Overall, y se crea una nueva variable que se llama sentiment_label a la que se le asigna un 0 si el valor de Overall es 1, 2 o 3 y un 1 si el valor de Overall es 4 o 5. De esa forma se establece que los valores 0 de la variable sentiment_label son negativos y los valores 1 son positivos."
      ],
      "metadata": {
        "id": "xhZuxi-z4lJG"
      }
    },
    {
      "cell_type": "code",
      "source": [
        "set(data_inicial['overall'])"
      ],
      "metadata": {
        "colab": {
          "base_uri": "https://localhost:8080/"
        },
        "id": "VwCdFOL64fHe",
        "outputId": "9cfe0903-7e49-4821-c4ab-9356861a6a91"
      },
      "execution_count": 11,
      "outputs": [
        {
          "output_type": "execute_result",
          "data": {
            "text/plain": [
              "{1, 2, 3, 4, 5}"
            ]
          },
          "metadata": {},
          "execution_count": 11
        }
      ]
    },
    {
      "cell_type": "code",
      "source": [
        "def label_sentiment(row):\n",
        "    if int(row['overall']) < 4:\n",
        "        return 0\n",
        "    else:\n",
        "        return 1"
      ],
      "metadata": {
        "id": "Bae8R4G84kKj"
      },
      "execution_count": 12,
      "outputs": []
    },
    {
      "cell_type": "code",
      "source": [
        "data_inicial['sentiment_label'] = data_inicial.apply(lambda row: label_sentiment(row), axis=1)"
      ],
      "metadata": {
        "id": "t-j-aqUa5XE0"
      },
      "execution_count": 13,
      "outputs": []
    },
    {
      "cell_type": "code",
      "source": [
        "data_inicial.head(10)"
      ],
      "metadata": {
        "colab": {
          "base_uri": "https://localhost:8080/",
          "height": 772
        },
        "id": "-jPxEc2g5dGN",
        "outputId": "d01e8e78-58e2-427d-ec35-65726434faf3"
      },
      "execution_count": 14,
      "outputs": [
        {
          "output_type": "execute_result",
          "data": {
            "text/html": [
              "\n",
              "  <div id=\"df-e9fd56af-df9a-47ff-a0a9-cafe26d40098\">\n",
              "    <div class=\"colab-df-container\">\n",
              "      <div>\n",
              "<style scoped>\n",
              "    .dataframe tbody tr th:only-of-type {\n",
              "        vertical-align: middle;\n",
              "    }\n",
              "\n",
              "    .dataframe tbody tr th {\n",
              "        vertical-align: top;\n",
              "    }\n",
              "\n",
              "    .dataframe thead th {\n",
              "        text-align: right;\n",
              "    }\n",
              "</style>\n",
              "<table border=\"1\" class=\"dataframe\">\n",
              "  <thead>\n",
              "    <tr style=\"text-align: right;\">\n",
              "      <th></th>\n",
              "      <th>reviewerID</th>\n",
              "      <th>asin</th>\n",
              "      <th>reviewerName</th>\n",
              "      <th>helpful</th>\n",
              "      <th>reviewText</th>\n",
              "      <th>overall</th>\n",
              "      <th>summary</th>\n",
              "      <th>unixReviewTime</th>\n",
              "      <th>reviewTime</th>\n",
              "      <th>sentiment_label</th>\n",
              "    </tr>\n",
              "  </thead>\n",
              "  <tbody>\n",
              "    <tr>\n",
              "      <th>0</th>\n",
              "      <td>A3EBHHCZO6V2A4</td>\n",
              "      <td>5555991584</td>\n",
              "      <td>Amaranth \"music fan\"</td>\n",
              "      <td>[3, 3]</td>\n",
              "      <td>It's hard to believe \"Memory of Trees\" came ou...</td>\n",
              "      <td>5</td>\n",
              "      <td>Enya's last great album</td>\n",
              "      <td>1158019200</td>\n",
              "      <td>09 12, 2006</td>\n",
              "      <td>1</td>\n",
              "    </tr>\n",
              "    <tr>\n",
              "      <th>1</th>\n",
              "      <td>AZPWAXJG9OJXV</td>\n",
              "      <td>5555991584</td>\n",
              "      <td>bethtexas</td>\n",
              "      <td>[0, 0]</td>\n",
              "      <td>A clasically-styled and introverted album, Mem...</td>\n",
              "      <td>5</td>\n",
              "      <td>Enya at her most elegant</td>\n",
              "      <td>991526400</td>\n",
              "      <td>06 3, 2001</td>\n",
              "      <td>1</td>\n",
              "    </tr>\n",
              "    <tr>\n",
              "      <th>2</th>\n",
              "      <td>A38IRL0X2T4DPF</td>\n",
              "      <td>5555991584</td>\n",
              "      <td>bob turnley</td>\n",
              "      <td>[2, 2]</td>\n",
              "      <td>I never thought Enya would reach the sublime h...</td>\n",
              "      <td>5</td>\n",
              "      <td>The best so far</td>\n",
              "      <td>1058140800</td>\n",
              "      <td>07 14, 2003</td>\n",
              "      <td>1</td>\n",
              "    </tr>\n",
              "    <tr>\n",
              "      <th>3</th>\n",
              "      <td>A22IK3I6U76GX0</td>\n",
              "      <td>5555991584</td>\n",
              "      <td>Calle</td>\n",
              "      <td>[1, 1]</td>\n",
              "      <td>This is the third review of an irish album I w...</td>\n",
              "      <td>5</td>\n",
              "      <td>Ireland produces good music.</td>\n",
              "      <td>957312000</td>\n",
              "      <td>05 3, 2000</td>\n",
              "      <td>1</td>\n",
              "    </tr>\n",
              "    <tr>\n",
              "      <th>4</th>\n",
              "      <td>A1AISPOIIHTHXX</td>\n",
              "      <td>5555991584</td>\n",
              "      <td>Cloud \"...\"</td>\n",
              "      <td>[1, 1]</td>\n",
              "      <td>Enya, despite being a successful recording art...</td>\n",
              "      <td>4</td>\n",
              "      <td>4.5; music to dream to</td>\n",
              "      <td>1200528000</td>\n",
              "      <td>01 17, 2008</td>\n",
              "      <td>1</td>\n",
              "    </tr>\n",
              "    <tr>\n",
              "      <th>5</th>\n",
              "      <td>A2P49WD75WHAG5</td>\n",
              "      <td>5555991584</td>\n",
              "      <td>Daniel J. Hamlow</td>\n",
              "      <td>[62, 65]</td>\n",
              "      <td>Who knows why I initially considered this to b...</td>\n",
              "      <td>5</td>\n",
              "      <td>Dreamy unearthly magic continues with Eire's o...</td>\n",
              "      <td>1059523200</td>\n",
              "      <td>07 30, 2003</td>\n",
              "      <td>1</td>\n",
              "    </tr>\n",
              "    <tr>\n",
              "      <th>6</th>\n",
              "      <td>A3O90G1D7I5EGG</td>\n",
              "      <td>5555991584</td>\n",
              "      <td>dev1</td>\n",
              "      <td>[1, 5]</td>\n",
              "      <td>Enya is one of a few artists whom I consider s...</td>\n",
              "      <td>3</td>\n",
              "      <td>Have You Hugged A Tree Today?</td>\n",
              "      <td>959385600</td>\n",
              "      <td>05 27, 2000</td>\n",
              "      <td>0</td>\n",
              "    </tr>\n",
              "    <tr>\n",
              "      <th>7</th>\n",
              "      <td>A3EJYJC25OJVKK</td>\n",
              "      <td>5555991584</td>\n",
              "      <td>Distant Voyageur \"Nicholas Computer\"</td>\n",
              "      <td>[5, 5]</td>\n",
              "      <td>Enya is one of of the most mysterious singers ...</td>\n",
              "      <td>5</td>\n",
              "      <td>The album for a romantic autumn evening</td>\n",
              "      <td>1040428800</td>\n",
              "      <td>12 21, 2002</td>\n",
              "      <td>1</td>\n",
              "    </tr>\n",
              "    <tr>\n",
              "      <th>8</th>\n",
              "      <td>A1DA8VOH9NR6C7</td>\n",
              "      <td>5555991584</td>\n",
              "      <td>E. Minkovitch</td>\n",
              "      <td>[4, 4]</td>\n",
              "      <td>This is not another lousy Celtic New Age album...</td>\n",
              "      <td>5</td>\n",
              "      <td>Simply wonderful.</td>\n",
              "      <td>1167868800</td>\n",
              "      <td>01 4, 2007</td>\n",
              "      <td>1</td>\n",
              "    </tr>\n",
              "    <tr>\n",
              "      <th>9</th>\n",
              "      <td>A33TRNCQK4IUO7</td>\n",
              "      <td>5555991584</td>\n",
              "      <td>guillermoj</td>\n",
              "      <td>[12, 12]</td>\n",
              "      <td>Many times, AND WITH GOOD REASON, the \"new age...</td>\n",
              "      <td>5</td>\n",
              "      <td>A true gem, even if you don't love conventiona...</td>\n",
              "      <td>1052697600</td>\n",
              "      <td>05 12, 2003</td>\n",
              "      <td>1</td>\n",
              "    </tr>\n",
              "  </tbody>\n",
              "</table>\n",
              "</div>\n",
              "      <button class=\"colab-df-convert\" onclick=\"convertToInteractive('df-e9fd56af-df9a-47ff-a0a9-cafe26d40098')\"\n",
              "              title=\"Convert this dataframe to an interactive table.\"\n",
              "              style=\"display:none;\">\n",
              "        \n",
              "  <svg xmlns=\"http://www.w3.org/2000/svg\" height=\"24px\"viewBox=\"0 0 24 24\"\n",
              "       width=\"24px\">\n",
              "    <path d=\"M0 0h24v24H0V0z\" fill=\"none\"/>\n",
              "    <path d=\"M18.56 5.44l.94 2.06.94-2.06 2.06-.94-2.06-.94-.94-2.06-.94 2.06-2.06.94zm-11 1L8.5 8.5l.94-2.06 2.06-.94-2.06-.94L8.5 2.5l-.94 2.06-2.06.94zm10 10l.94 2.06.94-2.06 2.06-.94-2.06-.94-.94-2.06-.94 2.06-2.06.94z\"/><path d=\"M17.41 7.96l-1.37-1.37c-.4-.4-.92-.59-1.43-.59-.52 0-1.04.2-1.43.59L10.3 9.45l-7.72 7.72c-.78.78-.78 2.05 0 2.83L4 21.41c.39.39.9.59 1.41.59.51 0 1.02-.2 1.41-.59l7.78-7.78 2.81-2.81c.8-.78.8-2.07 0-2.86zM5.41 20L4 18.59l7.72-7.72 1.47 1.35L5.41 20z\"/>\n",
              "  </svg>\n",
              "      </button>\n",
              "      \n",
              "  <style>\n",
              "    .colab-df-container {\n",
              "      display:flex;\n",
              "      flex-wrap:wrap;\n",
              "      gap: 12px;\n",
              "    }\n",
              "\n",
              "    .colab-df-convert {\n",
              "      background-color: #E8F0FE;\n",
              "      border: none;\n",
              "      border-radius: 50%;\n",
              "      cursor: pointer;\n",
              "      display: none;\n",
              "      fill: #1967D2;\n",
              "      height: 32px;\n",
              "      padding: 0 0 0 0;\n",
              "      width: 32px;\n",
              "    }\n",
              "\n",
              "    .colab-df-convert:hover {\n",
              "      background-color: #E2EBFA;\n",
              "      box-shadow: 0px 1px 2px rgba(60, 64, 67, 0.3), 0px 1px 3px 1px rgba(60, 64, 67, 0.15);\n",
              "      fill: #174EA6;\n",
              "    }\n",
              "\n",
              "    [theme=dark] .colab-df-convert {\n",
              "      background-color: #3B4455;\n",
              "      fill: #D2E3FC;\n",
              "    }\n",
              "\n",
              "    [theme=dark] .colab-df-convert:hover {\n",
              "      background-color: #434B5C;\n",
              "      box-shadow: 0px 1px 3px 1px rgba(0, 0, 0, 0.15);\n",
              "      filter: drop-shadow(0px 1px 2px rgba(0, 0, 0, 0.3));\n",
              "      fill: #FFFFFF;\n",
              "    }\n",
              "  </style>\n",
              "\n",
              "      <script>\n",
              "        const buttonEl =\n",
              "          document.querySelector('#df-e9fd56af-df9a-47ff-a0a9-cafe26d40098 button.colab-df-convert');\n",
              "        buttonEl.style.display =\n",
              "          google.colab.kernel.accessAllowed ? 'block' : 'none';\n",
              "\n",
              "        async function convertToInteractive(key) {\n",
              "          const element = document.querySelector('#df-e9fd56af-df9a-47ff-a0a9-cafe26d40098');\n",
              "          const dataTable =\n",
              "            await google.colab.kernel.invokeFunction('convertToInteractive',\n",
              "                                                     [key], {});\n",
              "          if (!dataTable) return;\n",
              "\n",
              "          const docLinkHtml = 'Like what you see? Visit the ' +\n",
              "            '<a target=\"_blank\" href=https://colab.research.google.com/notebooks/data_table.ipynb>data table notebook</a>'\n",
              "            + ' to learn more about interactive tables.';\n",
              "          element.innerHTML = '';\n",
              "          dataTable['output_type'] = 'display_data';\n",
              "          await google.colab.output.renderOutput(dataTable, element);\n",
              "          const docLink = document.createElement('div');\n",
              "          docLink.innerHTML = docLinkHtml;\n",
              "          element.appendChild(docLink);\n",
              "        }\n",
              "      </script>\n",
              "    </div>\n",
              "  </div>\n",
              "  "
            ],
            "text/plain": [
              "       reviewerID        asin  ...   reviewTime sentiment_label\n",
              "0  A3EBHHCZO6V2A4  5555991584  ...  09 12, 2006               1\n",
              "1   AZPWAXJG9OJXV  5555991584  ...   06 3, 2001               1\n",
              "2  A38IRL0X2T4DPF  5555991584  ...  07 14, 2003               1\n",
              "3  A22IK3I6U76GX0  5555991584  ...   05 3, 2000               1\n",
              "4  A1AISPOIIHTHXX  5555991584  ...  01 17, 2008               1\n",
              "5  A2P49WD75WHAG5  5555991584  ...  07 30, 2003               1\n",
              "6  A3O90G1D7I5EGG  5555991584  ...  05 27, 2000               0\n",
              "7  A3EJYJC25OJVKK  5555991584  ...  12 21, 2002               1\n",
              "8  A1DA8VOH9NR6C7  5555991584  ...   01 4, 2007               1\n",
              "9  A33TRNCQK4IUO7  5555991584  ...  05 12, 2003               1\n",
              "\n",
              "[10 rows x 10 columns]"
            ]
          },
          "metadata": {},
          "execution_count": 14
        }
      ]
    },
    {
      "cell_type": "code",
      "source": [
        "freq = data_inicial.groupby(['sentiment_label']).count()\n",
        "print(freq)"
      ],
      "metadata": {
        "colab": {
          "base_uri": "https://localhost:8080/"
        },
        "id": "GqQM_WOP6c4t",
        "outputId": "5eaeb940-e0c5-4a16-cd17-25b449117aea"
      },
      "execution_count": 15,
      "outputs": [
        {
          "output_type": "stream",
          "name": "stdout",
          "text": [
            "                 reviewerID   asin  ...  unixReviewTime  reviewTime\n",
            "sentiment_label                     ...                            \n",
            "0                     13829  13829  ...           13829       13829\n",
            "1                     61138  61138  ...           61138       61138\n",
            "\n",
            "[2 rows x 9 columns]\n"
          ]
        }
      ]
    },
    {
      "cell_type": "markdown",
      "source": [
        "Se observa que existen 13829 reviews negativas y 61138 positivas. Para poder trabajar con el mismo número de reviews negativas que positivas, y, al mismo tiempo, reducir la cantidad de reviews con la que se trabaja para no tener problemas de rendimiento en google colab se va a proceder a eliminar 47309 reviews positivas para que se queden 13829 reviews positivas y 13829 reviews negativas."
      ],
      "metadata": {
        "id": "cNmbeX-L7oiT"
      }
    },
    {
      "cell_type": "code",
      "source": [
        "data_negativas = data_inicial[data_inicial['sentiment_label'] == 0]\n",
        "data_negativas.shape"
      ],
      "metadata": {
        "colab": {
          "base_uri": "https://localhost:8080/"
        },
        "id": "DWI3X7hS8h-C",
        "outputId": "e2accc01-3ef2-463c-bd73-4aaedc58b9da"
      },
      "execution_count": 16,
      "outputs": [
        {
          "output_type": "execute_result",
          "data": {
            "text/plain": [
              "(13829, 10)"
            ]
          },
          "metadata": {},
          "execution_count": 16
        }
      ]
    },
    {
      "cell_type": "code",
      "source": [
        "data_positivas = data_inicial[data_inicial['sentiment_label'] == 1]\n",
        "data_positivas.shape"
      ],
      "metadata": {
        "colab": {
          "base_uri": "https://localhost:8080/"
        },
        "id": "QJPlUFOM-wYu",
        "outputId": "61e6321f-2664-4e10-8fec-c835d40ce01c"
      },
      "execution_count": 17,
      "outputs": [
        {
          "output_type": "execute_result",
          "data": {
            "text/plain": [
              "(61138, 10)"
            ]
          },
          "metadata": {},
          "execution_count": 17
        }
      ]
    },
    {
      "cell_type": "code",
      "source": [
        "data_positivas = data_positivas[:13829]\n",
        "data_positivas.shape"
      ],
      "metadata": {
        "colab": {
          "base_uri": "https://localhost:8080/"
        },
        "id": "1A1IlUlc-1Ur",
        "outputId": "63526d58-8dc7-4572-a7d9-5e88f9b33f51"
      },
      "execution_count": 18,
      "outputs": [
        {
          "output_type": "execute_result",
          "data": {
            "text/plain": [
              "(13829, 10)"
            ]
          },
          "metadata": {},
          "execution_count": 18
        }
      ]
    },
    {
      "cell_type": "code",
      "source": [
        "data = pd.concat([data_negativas, data_positivas])\n",
        "data.shape"
      ],
      "metadata": {
        "colab": {
          "base_uri": "https://localhost:8080/"
        },
        "id": "LszEJnEv_HMZ",
        "outputId": "3100af2d-b295-4c64-c434-8d5479feb9be"
      },
      "execution_count": 19,
      "outputs": [
        {
          "output_type": "execute_result",
          "data": {
            "text/plain": [
              "(27658, 10)"
            ]
          },
          "metadata": {},
          "execution_count": 19
        }
      ]
    },
    {
      "cell_type": "code",
      "source": [
        "freq = data.groupby(['sentiment_label']).count()\n",
        "print(freq)"
      ],
      "metadata": {
        "colab": {
          "base_uri": "https://localhost:8080/"
        },
        "id": "nQ3yFCWA_bkc",
        "outputId": "32370baa-0857-4ba0-cbca-c696c5003862"
      },
      "execution_count": 20,
      "outputs": [
        {
          "output_type": "stream",
          "name": "stdout",
          "text": [
            "                 reviewerID   asin  ...  unixReviewTime  reviewTime\n",
            "sentiment_label                     ...                            \n",
            "0                     13829  13829  ...           13829       13829\n",
            "1                     13829  13829  ...           13829       13829\n",
            "\n",
            "[2 rows x 9 columns]\n"
          ]
        }
      ]
    },
    {
      "cell_type": "markdown",
      "source": [
        "## Cardinalidad del vocabulario"
      ],
      "metadata": {
        "id": "mneqyPmYcfjP"
      }
    },
    {
      "cell_type": "code",
      "source": [
        "from collections import Counter\n",
        "import matplotlib.pyplot as plt"
      ],
      "metadata": {
        "id": "AqsNqzYMcinu"
      },
      "execution_count": 21,
      "outputs": []
    },
    {
      "cell_type": "markdown",
      "source": [
        "Se juntan todas las reviews en una lista, luego se separan las palabras por espacios y se cuentan las diferentes palabras."
      ],
      "metadata": {
        "id": "o8Ttyh8mH2Qq"
      }
    },
    {
      "cell_type": "code",
      "source": [
        "palabras_todas = []\n",
        "for i in data.index:\n",
        "  palabras_todas.append(data['reviewText'][i])\n",
        "palabras_str = str(palabras_todas)\n",
        "palabras = palabras_str.lower().split()\n",
        "cont = Counter(palabras)\n",
        "len(cont)"
      ],
      "metadata": {
        "colab": {
          "base_uri": "https://localhost:8080/"
        },
        "id": "3nUbvxb_y6L2",
        "outputId": "04ef0d43-7aaf-4e5d-fa13-84709b2dcc13"
      },
      "execution_count": 22,
      "outputs": [
        {
          "output_type": "execute_result",
          "data": {
            "text/plain": [
              "275066"
            ]
          },
          "metadata": {},
          "execution_count": 22
        }
      ]
    },
    {
      "cell_type": "markdown",
      "source": [
        "Se puede observar que se han extraído 275066 tokens de todas las reviews.\n",
        "\n",
        "Las palabras más comunes son las siguientes. Son stopwords, a excepción de la palabra 'album', que tratándose de reviews de música tiene sentido que sea así."
      ],
      "metadata": {
        "id": "piEnUQ24IRlc"
      }
    },
    {
      "cell_type": "code",
      "source": [
        "comunes = cont.most_common(20)\n",
        "comunes"
      ],
      "metadata": {
        "colab": {
          "base_uri": "https://localhost:8080/"
        },
        "id": "JtTLIltT21St",
        "outputId": "41919313-a137-4911-e214-62739022c53a"
      },
      "execution_count": 23,
      "outputs": [
        {
          "output_type": "execute_result",
          "data": {
            "text/plain": [
              "[('the', 249510),\n",
              " ('and', 135205),\n",
              " ('of', 122036),\n",
              " ('a', 118086),\n",
              " ('to', 97636),\n",
              " ('is', 91971),\n",
              " ('this', 66705),\n",
              " ('i', 58538),\n",
              " ('in', 55882),\n",
              " ('that', 55191),\n",
              " ('it', 49056),\n",
              " ('on', 46963),\n",
              " ('with', 41052),\n",
              " ('but', 36959),\n",
              " ('album', 36333),\n",
              " ('for', 33882),\n",
              " ('as', 33780),\n",
              " ('was', 31662),\n",
              " ('you', 29617),\n",
              " ('are', 29532)]"
            ]
          },
          "metadata": {},
          "execution_count": 23
        }
      ]
    },
    {
      "cell_type": "markdown",
      "source": [
        "Las palabras más frecuentes se pueden representar en una gráfica de la siguiente forma."
      ],
      "metadata": {
        "id": "YxLm49raI0m2"
      }
    },
    {
      "cell_type": "code",
      "source": [
        "palab = [w[0] for w in comunes]\n",
        "frecuen = [w[1] for w in comunes]"
      ],
      "metadata": {
        "id": "P0Bu9FBn4E7u"
      },
      "execution_count": 24,
      "outputs": []
    },
    {
      "cell_type": "code",
      "source": [
        "frecuen, palab = zip(*sorted(zip(frecuen, palab)))"
      ],
      "metadata": {
        "id": "C-rkbXHq4OHP"
      },
      "execution_count": 25,
      "outputs": []
    },
    {
      "cell_type": "code",
      "source": [
        "plt.barh(palab, frecuen)\n",
        "plt.show()"
      ],
      "metadata": {
        "colab": {
          "base_uri": "https://localhost:8080/",
          "height": 265
        },
        "id": "LI6FLmqD4RQ1",
        "outputId": "7a23ddb1-a483-48da-9a30-fd66159c7012"
      },
      "execution_count": 26,
      "outputs": [
        {
          "output_type": "display_data",
          "data": {
            "image/png": "[encoded data removed]",
            "text/plain": [
              "<Figure size 432x288 with 1 Axes>"
            ]
          },
          "metadata": {
            "needs_background": "light"
          }
        }
      ]
    },
    {
      "cell_type": "markdown",
      "source": [
        "## Distribución de reviews por número de estrellas"
      ],
      "metadata": {
        "id": "YWexSjgWJBFv"
      }
    },
    {
      "cell_type": "markdown",
      "source": [
        "Se mira la frecuencia de cada valor del campo Overall"
      ],
      "metadata": {
        "id": "zNXCus-jPgNB"
      }
    },
    {
      "cell_type": "code",
      "source": [
        "freq = data.groupby(['overall']).count()\n",
        "print(freq)"
      ],
      "metadata": {
        "colab": {
          "base_uri": "https://localhost:8080/"
        },
        "id": "MlKEtA3sJJYW",
        "outputId": "05de577b-2101-49ac-b4f8-f5ac14317377"
      },
      "execution_count": 27,
      "outputs": [
        {
          "output_type": "stream",
          "name": "stdout",
          "text": [
            "         reviewerID   asin  ...  reviewTime  sentiment_label\n",
            "overall                     ...                             \n",
            "1              3008   3008  ...        3008             3008\n",
            "2              3260   3260  ...        3260             3260\n",
            "3              7561   7561  ...        7561             7561\n",
            "4              3471   3471  ...        3471             3471\n",
            "5             10358  10358  ...       10358            10358\n",
            "\n",
            "[5 rows x 9 columns]\n"
          ]
        }
      ]
    },
    {
      "cell_type": "code",
      "source": [
        "freq = freq.drop(freq.columns[[1,2,3,4,5,6,7,8]], axis='columns')\n",
        "freq = freq.rename(columns={'reviewerID':'cantidad'})\n",
        "print(freq)"
      ],
      "metadata": {
        "colab": {
          "base_uri": "https://localhost:8080/"
        },
        "id": "yzdVtAv5MQTq",
        "outputId": "a98dd808-dacf-472e-f94c-551859ffa928"
      },
      "execution_count": 28,
      "outputs": [
        {
          "output_type": "stream",
          "name": "stdout",
          "text": [
            "         cantidad\n",
            "overall          \n",
            "1            3008\n",
            "2            3260\n",
            "3            7561\n",
            "4            3471\n",
            "5           10358\n"
          ]
        }
      ]
    },
    {
      "cell_type": "markdown",
      "source": [
        "Se dibuja el gráfico de barras que representa la cantidad de reviews que tienen 1, 2, 3, 4 y 5 estrellas."
      ],
      "metadata": {
        "id": "-ZLKErkCPpR_"
      }
    },
    {
      "cell_type": "code",
      "source": [
        "freq.plot(kind='bar', title='Cantidad de reviews por número de estrellas')"
      ],
      "metadata": {
        "colab": {
          "base_uri": "https://localhost:8080/",
          "height": 309
        },
        "id": "u6U0vOdHLtzz",
        "outputId": "cd6c1a26-0239-430f-eaa8-3da866798f17"
      },
      "execution_count": 29,
      "outputs": [
        {
          "output_type": "execute_result",
          "data": {
            "text/plain": [
              "<matplotlib.axes._subplots.AxesSubplot at 0x7f68f3e6db10>"
            ]
          },
          "metadata": {},
          "execution_count": 29
        },
        {
          "output_type": "display_data",
          "data": {
            "image/png": "[encoded data removed]",
            "text/plain": [
              "<Figure size 432x288 with 1 Axes>"
            ]
          },
          "metadata": {
            "needs_background": "light"
          }
        }
      ]
    },
    {
      "cell_type": "markdown",
      "source": [
        "## Nº de reviews positivas y negativas"
      ],
      "metadata": {
        "id": "aSqXSQVKP6V_"
      }
    },
    {
      "cell_type": "markdown",
      "source": [
        "El dataset se dividió para que quedasen el mismo número de reviews positivas que negativas, por lo que se obtiene el mismo valor para ambas."
      ],
      "metadata": {
        "id": "LRxo5FDKQ2-q"
      }
    },
    {
      "cell_type": "code",
      "source": [
        "freqPN = data.groupby(['sentiment_label']).count()\n",
        "print(freqPN)"
      ],
      "metadata": {
        "colab": {
          "base_uri": "https://localhost:8080/"
        },
        "id": "MIkBFFcGQAuo",
        "outputId": "59221c78-5287-40ee-a246-d0e38c47abba"
      },
      "execution_count": 30,
      "outputs": [
        {
          "output_type": "stream",
          "name": "stdout",
          "text": [
            "                 reviewerID   asin  ...  unixReviewTime  reviewTime\n",
            "sentiment_label                     ...                            \n",
            "0                     13829  13829  ...           13829       13829\n",
            "1                     13829  13829  ...           13829       13829\n",
            "\n",
            "[2 rows x 9 columns]\n"
          ]
        }
      ]
    },
    {
      "cell_type": "code",
      "source": [
        "freqPN = freqPN.drop(freqPN.columns[[1,2,3,4,5,6,7,8]], axis='columns')\n",
        "freqPN = freqPN.rename(columns={'reviewerID':'cantidad'})\n",
        "print(freqPN)"
      ],
      "metadata": {
        "colab": {
          "base_uri": "https://localhost:8080/"
        },
        "id": "F81TuUHDQahP",
        "outputId": "1af338bd-20f0-461d-c712-4b6335479f0b"
      },
      "execution_count": 31,
      "outputs": [
        {
          "output_type": "stream",
          "name": "stdout",
          "text": [
            "                 cantidad\n",
            "sentiment_label          \n",
            "0                   13829\n",
            "1                   13829\n"
          ]
        }
      ]
    },
    {
      "cell_type": "code",
      "source": [
        "freqPN.plot(kind='bar', title='Cantidad de reviews positivas y negativas')"
      ],
      "metadata": {
        "colab": {
          "base_uri": "https://localhost:8080/",
          "height": 310
        },
        "id": "JEUoFXLpQt9o",
        "outputId": "3308588d-bcd1-423a-aea4-5ffaf0b882fd"
      },
      "execution_count": 32,
      "outputs": [
        {
          "output_type": "execute_result",
          "data": {
            "text/plain": [
              "<matplotlib.axes._subplots.AxesSubplot at 0x7f68f3e02610>"
            ]
          },
          "metadata": {},
          "execution_count": 32
        },
        {
          "output_type": "display_data",
          "data": {
            "image/png": "[encoded data removed]",
            "text/plain": [
              "<Figure size 432x288 with 1 Axes>"
            ]
          },
          "metadata": {
            "needs_background": "light"
          }
        }
      ]
    },
    {
      "cell_type": "markdown",
      "source": [
        "## N-grams más frecuentes"
      ],
      "metadata": {
        "id": "k7-ox2RxRO2m"
      }
    },
    {
      "cell_type": "code",
      "source": [
        "from nltk import ngrams\n",
        "from nltk.probability import FreqDist"
      ],
      "metadata": {
        "id": "kZoQjchkRT5A"
      },
      "execution_count": 33,
      "outputs": []
    },
    {
      "cell_type": "markdown",
      "source": [
        "Se calculan los bigramas y trigramas de la lista calculada anteriormente de todas las palabras de las reviews."
      ],
      "metadata": {
        "id": "8dMngsJVT__6"
      }
    },
    {
      "cell_type": "code",
      "source": [
        "bigramas = list(ngrams(palabras, 2))\n",
        "trigramas = list(ngrams(palabras, 3))"
      ],
      "metadata": {
        "id": "5tfS5XDISJdu"
      },
      "execution_count": 34,
      "outputs": []
    },
    {
      "cell_type": "code",
      "source": [
        "bigramas[:10]"
      ],
      "metadata": {
        "colab": {
          "base_uri": "https://localhost:8080/"
        },
        "id": "Zm9J3X63ScZv",
        "outputId": "04ccd0df-da8b-446a-9153-230cc7e99707"
      },
      "execution_count": 35,
      "outputs": [
        {
          "output_type": "execute_result",
          "data": {
            "text/plain": [
              "[('[\"enya', 'is'),\n",
              " ('is', 'one'),\n",
              " ('one', 'of'),\n",
              " ('of', 'a'),\n",
              " ('a', 'few'),\n",
              " ('few', 'artists'),\n",
              " ('artists', 'whom'),\n",
              " ('whom', 'i'),\n",
              " ('i', 'consider'),\n",
              " ('consider', 'successful')]"
            ]
          },
          "metadata": {},
          "execution_count": 35
        }
      ]
    },
    {
      "cell_type": "code",
      "source": [
        "trigramas[:10]"
      ],
      "metadata": {
        "colab": {
          "base_uri": "https://localhost:8080/"
        },
        "id": "K2GwL3A8ScPO",
        "outputId": "d9bce420-0c2d-498e-9be9-205958fa211d"
      },
      "execution_count": 36,
      "outputs": [
        {
          "output_type": "execute_result",
          "data": {
            "text/plain": [
              "[('[\"enya', 'is', 'one'),\n",
              " ('is', 'one', 'of'),\n",
              " ('one', 'of', 'a'),\n",
              " ('of', 'a', 'few'),\n",
              " ('a', 'few', 'artists'),\n",
              " ('few', 'artists', 'whom'),\n",
              " ('artists', 'whom', 'i'),\n",
              " ('whom', 'i', 'consider'),\n",
              " ('i', 'consider', 'successful'),\n",
              " ('consider', 'successful', 'at')]"
            ]
          },
          "metadata": {},
          "execution_count": 36
        }
      ]
    },
    {
      "cell_type": "code",
      "source": [
        "bg_freq = FreqDist(bigramas)\n",
        "tg_freq = FreqDist(trigramas)"
      ],
      "metadata": {
        "id": "jUwUXaHYSoQa"
      },
      "execution_count": 37,
      "outputs": []
    },
    {
      "cell_type": "markdown",
      "source": [
        "Los bigramas más frecuentes son los siguientes:"
      ],
      "metadata": {
        "id": "iiffna4WhN_Q"
      }
    },
    {
      "cell_type": "code",
      "source": [
        "bg_freq.most_common(10)"
      ],
      "metadata": {
        "colab": {
          "base_uri": "https://localhost:8080/"
        },
        "id": "KZWNarNJSt_V",
        "outputId": "3f6742da-dcbb-4c35-ad43-21069f755118"
      },
      "execution_count": 38,
      "outputs": [
        {
          "output_type": "execute_result",
          "data": {
            "text/plain": [
              "[(('of', 'the'), 31583),\n",
              " (('in', 'the'), 15077),\n",
              " (('is', 'a'), 14775),\n",
              " (('on', 'the'), 12476),\n",
              " (('this', 'album'), 12123),\n",
              " (('and', 'the'), 10614),\n",
              " (('one', 'of'), 10119),\n",
              " (('to', 'the'), 9590),\n",
              " (('this', 'is'), 8836),\n",
              " (('the', 'album'), 7485)]"
            ]
          },
          "metadata": {},
          "execution_count": 38
        }
      ]
    },
    {
      "cell_type": "markdown",
      "source": [
        "Y los trigramas más frecuentes los siguientes:"
      ],
      "metadata": {
        "id": "HEprnpKvhfnv"
      }
    },
    {
      "cell_type": "code",
      "source": [
        "tg_freq.most_common(10)"
      ],
      "metadata": {
        "colab": {
          "base_uri": "https://localhost:8080/"
        },
        "id": "Yyho6FBGSuxv",
        "outputId": "f6a28e48-661c-4c3f-8ff0-fb6b67153e8e"
      },
      "execution_count": 39,
      "outputs": [
        {
          "output_type": "execute_result",
          "data": {
            "text/plain": [
              "[(('one', 'of', 'the'), 5598),\n",
              " (('is', 'one', 'of'), 2910),\n",
              " (('this', 'album', 'is'), 2739),\n",
              " (('name:', 'reviewtext,', 'dtype:'), 2478),\n",
              " (('reviewtext,', 'dtype:', 'object,'), 2478),\n",
              " (('some', 'of', 'the'), 2094),\n",
              " (('a', 'lot', 'of'), 2050),\n",
              " (('this', 'is', 'a'), 2013),\n",
              " (('the', 'rest', 'of'), 1696),\n",
              " (('of', 'the', 'best'), 1674)]"
            ]
          },
          "metadata": {},
          "execution_count": 39
        }
      ]
    },
    {
      "cell_type": "markdown",
      "source": [
        "Viendo el resultado obtenido en los bigramas y trigramas más frecuentes se puede concluir que es necesario eliminar las stopwords, para poder obtener bigramas y trigramas de palabras que aporten valor.\n",
        "\n",
        "A continuación se grafica la cantidad de bigramas y trigramas más frecuentes."
      ],
      "metadata": {
        "id": "FQU2hGothjmY"
      }
    },
    {
      "cell_type": "code",
      "source": [
        "bg_freq_most_common = bg_freq.most_common(10)\n",
        "bgs_ = [str(bg[0]) for bg in bg_freq_most_common]\n",
        "bgs_f_ = [bg[1] for bg in bg_freq_most_common]\n",
        "\n",
        "tg_freq_most_common = tg_freq.most_common(10)\n",
        "tgs_ = [str(tg[0]) for tg in tg_freq_most_common]\n",
        "tgs_f_ = [tg[1] for tg in tg_freq_most_common]"
      ],
      "metadata": {
        "id": "cfVi64rGTCMx"
      },
      "execution_count": 40,
      "outputs": []
    },
    {
      "cell_type": "code",
      "source": [
        "bgs_f_, bgs_ = zip(*sorted(zip(bgs_f_, bgs_)))\n",
        "tgs_f_, tgs_ = zip(*sorted(zip(tgs_f_, tgs_)))"
      ],
      "metadata": {
        "id": "NxO3XgawTIXA"
      },
      "execution_count": 41,
      "outputs": []
    },
    {
      "cell_type": "code",
      "source": [
        "plt.barh(bgs_, bgs_f_)\n",
        "plt.title('Frecuencias más comunes de los bigramas')\n",
        "plt.show()"
      ],
      "metadata": {
        "colab": {
          "base_uri": "https://localhost:8080/",
          "height": 281
        },
        "id": "WnAv-hKYTKTn",
        "outputId": "9d019ccc-4bc6-4c62-d393-345e00bfc175"
      },
      "execution_count": 42,
      "outputs": [
        {
          "output_type": "display_data",
          "data": {
            "image/png": "[encoded data removed]",
            "text/plain": [
              "<Figure size 432x288 with 1 Axes>"
            ]
          },
          "metadata": {
            "needs_background": "light"
          }
        }
      ]
    },
    {
      "cell_type": "code",
      "source": [
        "plt.barh(tgs_, tgs_f_)\n",
        "plt.title('Frecuencias más comunes de los trigramas')\n",
        "plt.show()"
      ],
      "metadata": {
        "colab": {
          "base_uri": "https://localhost:8080/",
          "height": 281
        },
        "id": "MvHMKbZzTM4H",
        "outputId": "2434a6e7-5db4-45cf-cc8e-99a6594a9558"
      },
      "execution_count": 43,
      "outputs": [
        {
          "output_type": "display_data",
          "data": {
            "image/png": "[encoded data removed]",
            "text/plain": [
              "<Figure size 432x288 with 1 Axes>"
            ]
          },
          "metadata": {
            "needs_background": "light"
          }
        }
      ]
    },
    {
      "cell_type": "markdown",
      "source": [
        "## Nubes de palabras"
      ],
      "metadata": {
        "id": "xQttidIQiWrQ"
      }
    },
    {
      "cell_type": "code",
      "source": [
        "from wordcloud import WordCloud"
      ],
      "metadata": {
        "id": "1M3xpJmIiZGg"
      },
      "execution_count": 44,
      "outputs": []
    },
    {
      "cell_type": "code",
      "source": [
        "def plot_word_cloud(text):\n",
        "    wordcloud = WordCloud(max_font_size=50, max_words=100, background_color=\"white\").generate(' '.join(text))\n",
        "    plt.figure( figsize=(12,6))\n",
        "    plt.imshow(wordcloud, interpolation='bilinear')\n",
        "    plt.axis('off')\n",
        "    plt.show()"
      ],
      "metadata": {
        "id": "Mq7iFdkGil6m"
      },
      "execution_count": 45,
      "outputs": []
    },
    {
      "cell_type": "markdown",
      "source": [
        "En la nube de palabras se observa que las palabras que tienen un mayor peso están relacionadas con la música, ya que se trata de reviews de música."
      ],
      "metadata": {
        "id": "TSKI7Kp5jglG"
      }
    },
    {
      "cell_type": "code",
      "source": [
        "plot_word_cloud(palabras)"
      ],
      "metadata": {
        "colab": {
          "base_uri": "https://localhost:8080/",
          "height": 357
        },
        "id": "XmJOZitWi3si",
        "outputId": "7a19aee9-a81d-4f9c-a406-ff68bce31277"
      },
      "execution_count": 46,
      "outputs": [
        {
          "output_type": "display_data",
          "data": {
            "image/png": "[encoded data removed]",
            "text/plain": [
              "<Figure size 864x432 with 1 Axes>"
            ]
          },
          "metadata": {
            "needs_background": "light"
          }
        }
      ]
    },
    {
      "cell_type": "markdown",
      "source": [
        "## Visualización Word2Vec"
      ],
      "metadata": {
        "id": "HYqTqLg2oRS1"
      }
    },
    {
      "cell_type": "code",
      "source": [
        "from gensim.models import Word2Vec\n",
        "from gensim.models.word2vec import LineSentence\n",
        "from sklearn.manifold import TSNE\n",
        "import numpy as np"
      ],
      "metadata": {
        "id": "pebB9wdaoVdI"
      },
      "execution_count": 47,
      "outputs": []
    },
    {
      "cell_type": "markdown",
      "source": [
        "Se seleccionan todos los textos de las reviews como corpus con el que se trabajará."
      ],
      "metadata": {
        "id": "zwf3l8MNsIIr"
      }
    },
    {
      "cell_type": "code",
      "source": [
        "corpus = data['reviewText'].str.split()"
      ],
      "metadata": {
        "id": "-qwmU8guoYdQ"
      },
      "execution_count": 48,
      "outputs": []
    },
    {
      "cell_type": "markdown",
      "source": [
        "Se establecen los valores de los hiperparámetros. En este caso se ha optado por:\n",
        "- Un tamaño de 200 palabras.\n",
        "- Una ventana de 10 palabras para obtener el contexto de cada palabra.\n",
        "- Una frecuencia mínima de cada palabra para que se considere en el entrenamiento de 5.\n",
        "- El algoritmo elegido ha sido el Skip-Gram, porque es el que funciona mejor con conjuntos de datos pequeños.\n",
        "- Se utiliza negative sampling, para maximizar la similaridad de las palabras del mismo contexto y minimizarla cuando se trate de palabras que se encuentren en diferentes contextos.\n",
        "- Se selecciona un valor para negative sampling de 20 porque se trabaja con un dataset pequeño, si el dataset fuese más grande, el valor seleccionado sería más pequeño."
      ],
      "metadata": {
        "id": "MqUR-8t4sQDE"
      }
    },
    {
      "cell_type": "code",
      "source": [
        "sg_params = {\n",
        "    'size': 200,\n",
        "    'window': 10,\n",
        "    'min_count': 5,\n",
        "    'sg': 1,\n",
        "    'hs': 0,\n",
        "    'negative': 20\n",
        "}"
      ],
      "metadata": {
        "id": "N9g2cTXiovI3"
      },
      "execution_count": 49,
      "outputs": []
    },
    {
      "cell_type": "markdown",
      "source": [
        "Inicialización de los objetos Word2Vec"
      ],
      "metadata": {
        "id": "R-rEIdL7u7TX"
      }
    },
    {
      "cell_type": "code",
      "source": [
        "w2v_sg = Word2Vec(**sg_params)"
      ],
      "metadata": {
        "id": "XUYTxbuSozJP"
      },
      "execution_count": 50,
      "outputs": []
    },
    {
      "cell_type": "markdown",
      "source": [
        "Construcción del vocabulario"
      ],
      "metadata": {
        "id": "YEb1CHn2u_b-"
      }
    },
    {
      "cell_type": "code",
      "source": [
        "w2v_sg.build_vocab(corpus)"
      ],
      "metadata": {
        "id": "lMdo8FIEo2eJ"
      },
      "execution_count": 51,
      "outputs": []
    },
    {
      "cell_type": "code",
      "source": [
        "print('Vocabulario compuesto por {} palabras'.format(len(w2v_sg.wv.vocab)))"
      ],
      "metadata": {
        "colab": {
          "base_uri": "https://localhost:8080/"
        },
        "id": "2lLkX15Ho_Wr",
        "outputId": "72eea13f-c641-4d55-d0d0-3bb4c53ad581"
      },
      "execution_count": 52,
      "outputs": [
        {
          "output_type": "stream",
          "name": "stdout",
          "text": [
            "Vocabulario compuesto por 43724 palabras\n"
          ]
        }
      ]
    },
    {
      "cell_type": "markdown",
      "source": [
        "Se realiza el entrenamiento de los pesos de los embeddings"
      ],
      "metadata": {
        "id": "mJczbIuyvEFm"
      }
    },
    {
      "cell_type": "code",
      "source": [
        "#w2v_sg.train(sentences=corpus, total_examples=w2v_sg.corpus_count, epochs=10)"
      ],
      "metadata": {
        "id": "li97cpZOrnlI"
      },
      "execution_count": 53,
      "outputs": []
    },
    {
      "cell_type": "markdown",
      "source": [
        "Se almacena el modelo"
      ],
      "metadata": {
        "id": "rYabfzSFvJvQ"
      }
    },
    {
      "cell_type": "code",
      "source": [
        "#w2v_sg.save('./w2v_sg_d200_mc5_w10.pkl')"
      ],
      "metadata": {
        "id": "PsJhfxTJrudg"
      },
      "execution_count": 54,
      "outputs": []
    },
    {
      "cell_type": "markdown",
      "source": [
        "Se carga el modelo almacenado (para no tener que volver a ejecutarlo)"
      ],
      "metadata": {
        "id": "NHVtmyp5xh6Z"
      }
    },
    {
      "cell_type": "code",
      "source": [
        "w2v_sg = Word2Vec.load('./w2v_sg_d200_mc5_w10.pkl')"
      ],
      "metadata": {
        "id": "M96AF4Ktxgem"
      },
      "execution_count": 55,
      "outputs": []
    },
    {
      "cell_type": "markdown",
      "source": [
        "Visualización"
      ],
      "metadata": {
        "id": "tqsEx--RvfZX"
      }
    },
    {
      "cell_type": "markdown",
      "source": [
        "Se crean clusters de palabras similares a las proporcionadas"
      ],
      "metadata": {
        "id": "itbq6SkvwB0H"
      }
    },
    {
      "cell_type": "code",
      "source": [
        "keys = ['singer', 'good', 'sound', 'price']\n",
        "\n",
        "embedding_clusters = []\n",
        "word_clusters = []\n",
        "for word in keys:\n",
        "    embeddings = []\n",
        "    words = []\n",
        "    for similar_word, _ in w2v_sg.wv.most_similar(word, topn=10):\n",
        "        words.append(similar_word)\n",
        "        embeddings.append(w2v_sg.wv[similar_word])\n",
        "    embedding_clusters.append(embeddings)\n",
        "    word_clusters.append(words)"
      ],
      "metadata": {
        "id": "9HVH9dpWvrh6"
      },
      "execution_count": 56,
      "outputs": []
    },
    {
      "cell_type": "code",
      "source": [
        "print(word_clusters)"
      ],
      "metadata": {
        "colab": {
          "base_uri": "https://localhost:8080/"
        },
        "id": "8W4gRO5twdrG",
        "outputId": "8a4f0256-f633-41f2-cc7a-ee45780dff31"
      },
      "execution_count": 57,
      "outputs": [
        {
          "output_type": "stream",
          "name": "stdout",
          "text": [
            "[['vocalist', 'singer,', 'singer.', 'songwriter', 'lead', 'vocalist,', 'singer)', 'guitarist', 'Luttrell', 'extraordinaire'], ['great', 'good,', 'decent', 'nice', 'fine', 'solid', 'bad', 'overexposed.', 'good.', \"well.It's\"], ['sounds', 'sound,', 'sound.', 'sounding', 'spatial', 'crisper', 'muddy.', 'sounded', 'behringer', 'soundstage'], ['price,', '$2', 'admission.', 'price.', 'price!', 'admission', '$30', 'steep', '$20', 'affordable']]\n"
          ]
        }
      ]
    },
    {
      "cell_type": "markdown",
      "source": [
        "Se reduce la dimensionalidad a 2D para poder representarlo en la gráfica"
      ],
      "metadata": {
        "id": "KQvQqnEOwrFr"
      }
    },
    {
      "cell_type": "code",
      "source": [
        "tsne_model_2d = TSNE(perplexity=15, n_components=2, init='pca', n_iter=3500, random_state=32)"
      ],
      "metadata": {
        "id": "XDVf6xalwyla"
      },
      "execution_count": 58,
      "outputs": []
    },
    {
      "cell_type": "code",
      "source": [
        "embedding_clusters = np.array(embedding_clusters)\n",
        "n, m, k = embedding_clusters.shape"
      ],
      "metadata": {
        "id": "U-mLJrGMw0je"
      },
      "execution_count": 59,
      "outputs": []
    },
    {
      "cell_type": "code",
      "source": [
        "embeddings_2d = np.array(tsne_model_2d.fit_transform(embedding_clusters.reshape(n * m, k))).reshape(n, m, 2)"
      ],
      "metadata": {
        "colab": {
          "base_uri": "https://localhost:8080/"
        },
        "id": "FRtgXdTFw3gL",
        "outputId": "3e090948-e275-401e-ad77-c9278c2c000b"
      },
      "execution_count": 60,
      "outputs": [
        {
          "output_type": "stream",
          "name": "stderr",
          "text": [
            "/usr/local/lib/python3.7/dist-packages/sklearn/manifold/_t_sne.py:793: FutureWarning: The default learning rate in TSNE will change from 200.0 to 'auto' in 1.2.\n",
            "  FutureWarning,\n",
            "/usr/local/lib/python3.7/dist-packages/sklearn/manifold/_t_sne.py:986: FutureWarning: The PCA initialization in TSNE will change to have the standard deviation of PC1 equal to 1e-4 in 1.2. This will ensure better convergence.\n",
            "  FutureWarning,\n"
          ]
        }
      ]
    },
    {
      "cell_type": "markdown",
      "source": [
        "Se realiza la gráfica en la que se representan en 2D los embeddings"
      ],
      "metadata": {
        "id": "emrn7DXYw7DK"
      }
    },
    {
      "cell_type": "code",
      "source": [
        "import matplotlib.cm as cm\n",
        "import numpy as np\n",
        "%matplotlib inline\n",
        "\n",
        "\n",
        "def tsne_plot_similar_words(labels, embedding_clusters, word_clusters, a=0.7):\n",
        "    plt.figure(figsize=(16, 9))\n",
        "    colors = cm.rainbow(np.linspace(0, 1, len(labels)))\n",
        "    for label, embeddings, words, color in zip(labels, embedding_clusters, word_clusters, colors):\n",
        "        x = embeddings[:,0]\n",
        "        y = embeddings[:,1]\n",
        "        plt.scatter(x, y, c=[color], alpha=a, label=label)\n",
        "        for i, word in enumerate(words):\n",
        "            plt.annotate(word, alpha=0.5, xy=(x[i], y[i]), xytext=(5, 2), \n",
        "                         textcoords='offset points', ha='right', va='bottom', size=8)\n",
        "    plt.legend(loc=4)\n",
        "    plt.grid(True)\n",
        "    plt.title('Representación en 2D de los embeddings de algunos clusters de palabras')\n",
        "    # plt.savefig(\"f/г.png\", format='png', dpi=150, bbox_inches='tight')\n",
        "    plt.show()\n",
        "\n",
        "\n",
        "tsne_plot_similar_words(keys, embeddings_2d, word_clusters)"
      ],
      "metadata": {
        "colab": {
          "base_uri": "https://localhost:8080/",
          "height": 553
        },
        "id": "2X_Qyij-xFFa",
        "outputId": "a538e8e0-c4e0-491c-bafd-9da40918b755"
      },
      "execution_count": 61,
      "outputs": [
        {
          "output_type": "display_data",
          "data": {
            "image/png": "[encoded data removed]",
            "text/plain": [
              "<Figure size 1152x648 with 1 Axes>"
            ]
          },
          "metadata": {
            "needs_background": "light"
          }
        }
      ]
    },
    {
      "cell_type": "markdown",
      "source": [
        "## **Conclusiones**\n",
        "\n",
        "Las conclusiones que se pueden sacar de la fase de exploración del corpus son las siguientes:\n",
        "- Para obtener resultados buenos es necesario realizar una limpieza de los datos, eliminando las stopwords (que son las palabras más frecuentes y también forman parte de los bigramas y trigramas más frecuentes). También hay que limpiar los signos de puntuación pegados a las palabras.\n",
        "- Las palabras con más peso en la nube de palabras son de la temática de música, y tiene sentido, ya que las reviews son de música."
      ],
      "metadata": {
        "id": "8veo7aXFyVSv"
      }
    },
    {
      "cell_type": "markdown",
      "source": [
        "# **2. Preprocesado de texto**"
      ],
      "metadata": {
        "id": "9orZKQjH3ClH"
      }
    },
    {
      "cell_type": "markdown",
      "source": [
        "En la fase de preprocesado se preprocesa el texto de las reviews para limpiarlo y dejarlo preparado para la siguiente fase de entrenamiento del modelo."
      ],
      "metadata": {
        "id": "gh5nIIU6FjCg"
      }
    },
    {
      "cell_type": "code",
      "source": [
        "! pip install num2words"
      ],
      "metadata": {
        "colab": {
          "base_uri": "https://localhost:8080/"
        },
        "id": "jdgER3zXY3Kt",
        "outputId": "faea0352-1733-41f2-fd3c-c27934eeecce"
      },
      "execution_count": 62,
      "outputs": [
        {
          "output_type": "stream",
          "name": "stdout",
          "text": [
            "Collecting num2words\n",
            "  Downloading num2words-0.5.10-py3-none-any.whl (101 kB)\n",
            "\u001b[?25l\r\u001b[K     |███▎                            | 10 kB 30.5 MB/s eta 0:00:01\r\u001b[K     |██████▌                         | 20 kB 24.7 MB/s eta 0:00:01\r\u001b[K     |█████████▊                      | 30 kB 13.2 MB/s eta 0:00:01\r\u001b[K     |█████████████                   | 40 kB 5.9 MB/s eta 0:00:01\r\u001b[K     |████████████████▏               | 51 kB 6.3 MB/s eta 0:00:01\r\u001b[K     |███████████████████▍            | 61 kB 7.4 MB/s eta 0:00:01\r\u001b[K     |██████████████████████▋         | 71 kB 6.1 MB/s eta 0:00:01\r\u001b[K     |█████████████████████████▉      | 81 kB 6.7 MB/s eta 0:00:01\r\u001b[K     |█████████████████████████████   | 92 kB 7.4 MB/s eta 0:00:01\r\u001b[K     |████████████████████████████████| 101 kB 4.8 MB/s \n",
            "\u001b[?25hRequirement already satisfied: docopt>=0.6.2 in /usr/local/lib/python3.7/dist-packages (from num2words) (0.6.2)\n",
            "Installing collected packages: num2words\n",
            "Successfully installed num2words-0.5.10\n"
          ]
        }
      ]
    },
    {
      "cell_type": "markdown",
      "source": [
        "Se genera una función que realiza la limpieza para cada review. En concreto elimina los acentos, los signos de puntuación, las stopwords, los espacios sobrantes, convierte todas las letras en minúsculas, realiza la lematización, y convierte los dígitos en palabras."
      ],
      "metadata": {
        "id": "JuAqasgbFast"
      }
    },
    {
      "cell_type": "code",
      "source": [
        "import unicodedata\n",
        "from num2words import num2words\n",
        "\n",
        "from nltk import RegexpTokenizer\n",
        "from nltk.corpus import stopwords\n",
        "from nltk.stem import WordNetLemmatizer\n",
        "\n",
        "def nltk_cleaner(text, tokenizer, sw_list, lemmatizer):\n",
        "    clean_text = list()\n",
        "    \n",
        "    # Eliminar acentos, etc\n",
        "    text = unicodedata.normalize('NFKD', text).encode('ascii', 'ignore').decode('utf-8', 'ignore')\n",
        "    \n",
        "    # Separar palabras eliminando signos de puntuación\n",
        "    for word in tokenizer.tokenize(text):\n",
        "        \n",
        "        # Eliminar stop words\n",
        "        if word not in sw_list:\n",
        "            \n",
        "        # Eliminar espacios sobrantes, convertir a minúsculas y lematizar\n",
        "            clean_word = lemmatizer.lemmatize(word).lower().strip()\n",
        "        \n",
        "        # Convertir dígitos a palabras\n",
        "            if clean_word.isdigit():\n",
        "                clean_word = num2words(clean_word, lang='en')\n",
        "\n",
        "            clean_text.append(clean_word)\n",
        "            \n",
        "    return ' '.join(clean_text)"
      ],
      "metadata": {
        "id": "GNVtQBYB3WZh"
      },
      "execution_count": 63,
      "outputs": []
    },
    {
      "cell_type": "markdown",
      "source": [
        "La siguiente función se encarga de recorrer todas las reviews del dataset y de pasárselas a la función de limpieza anterior para que las procese todas una a una."
      ],
      "metadata": {
        "id": "BdjtAP9KG3dv"
      }
    },
    {
      "cell_type": "code",
      "source": [
        "def sentence_cleaner(text, tokenizer, sw_list, lemmatizer):\n",
        "  sentences = []\n",
        "  for s in data['reviewText']:\n",
        "    sent_prep = nltk_cleaner(s, tokenizer, sw_list, lemmatizer)\n",
        "    sentences.append(sent_prep)\n",
        "  return sentences"
      ],
      "metadata": {
        "id": "896ditsbonzj"
      },
      "execution_count": 64,
      "outputs": []
    },
    {
      "cell_type": "markdown",
      "source": [
        "Con respecto a las stopwords, se descargan las de nltk, que son con las que se va a trabajar"
      ],
      "metadata": {
        "id": "IL-pwxcZIl54"
      }
    },
    {
      "cell_type": "code",
      "source": [
        "import nltk\n",
        "nltk.download('stopwords')\n",
        "from nltk.corpus import stopwords"
      ],
      "metadata": {
        "colab": {
          "base_uri": "https://localhost:8080/"
        },
        "id": "NBErBSpHZcvb",
        "outputId": "4372bce6-0929-4c27-9ab3-4819379a3dfa"
      },
      "execution_count": 65,
      "outputs": [
        {
          "output_type": "stream",
          "name": "stdout",
          "text": [
            "[nltk_data] Downloading package stopwords to /root/nltk_data...\n",
            "[nltk_data]   Unzipping corpora/stopwords.zip.\n"
          ]
        }
      ]
    },
    {
      "cell_type": "markdown",
      "source": [
        "Para realizar la lematización se utiliza wordnet de nltk"
      ],
      "metadata": {
        "id": "99e0QXtjHltP"
      }
    },
    {
      "cell_type": "code",
      "source": [
        "nltk.download('wordnet')\n",
        "from nltk.stem import WordNetLemmatizer"
      ],
      "metadata": {
        "colab": {
          "base_uri": "https://localhost:8080/"
        },
        "id": "IAoJJQPWaidS",
        "outputId": "39161f25-5b47-471d-d6ed-3bde4b86dcbf"
      },
      "execution_count": 66,
      "outputs": [
        {
          "output_type": "stream",
          "name": "stdout",
          "text": [
            "[nltk_data] Downloading package wordnet to /root/nltk_data...\n",
            "[nltk_data]   Unzipping corpora/wordnet.zip.\n"
          ]
        }
      ]
    },
    {
      "cell_type": "markdown",
      "source": [
        "A continuación se define RegexpTokenizer como el tokenizador que se va a utilizar, el cual permite utilizar regex. También se definen las stopwords a utilizar en el idioma inglés, porque las reviews están en inglés."
      ],
      "metadata": {
        "id": "TFVUtC_UH9-I"
      }
    },
    {
      "cell_type": "code",
      "source": [
        "tokenizer = RegexpTokenizer(r'\\w+')\n",
        "sw_list = stopwords.words('english')\n",
        "lemmatizer = WordNetLemmatizer()"
      ],
      "metadata": {
        "id": "QxiyfBfLZJrj"
      },
      "execution_count": 67,
      "outputs": []
    },
    {
      "cell_type": "markdown",
      "source": [
        "Se ejecuta la función creada anteriormente, la cual recorre todas las reviews y realiza la limpieza del texto. El resultado de cada review preprocesada se almacena en el mismo dataset en una nueva columna llamada 'reviewText_prep'."
      ],
      "metadata": {
        "id": "H89kc6jJIfxf"
      }
    },
    {
      "cell_type": "code",
      "source": [
        "data['reviewText_prep'] = sentence_cleaner(data['reviewText'], tokenizer, sw_list, lemmatizer)"
      ],
      "metadata": {
        "id": "joReYlrxlOG-"
      },
      "execution_count": 68,
      "outputs": []
    },
    {
      "cell_type": "markdown",
      "source": [
        "Con el objetivo de comprobar que el preprocesado de los textos de las reviews se está haciendo correctamente, a continuación se muestra un texto de una review sin preprocesar y luego preprocesado. Como se puede observar, el preprocesado está funcionando correctamente."
      ],
      "metadata": {
        "id": "fAWfUw3UJErG"
      }
    },
    {
      "cell_type": "code",
      "source": [
        "data['reviewText'][6]"
      ],
      "metadata": {
        "colab": {
          "base_uri": "https://localhost:8080/",
          "height": 140
        },
        "id": "x0jSw8gonH-G",
        "outputId": "053e4461-2981-4b28-acdf-c46766f5d500"
      },
      "execution_count": 69,
      "outputs": [
        {
          "output_type": "execute_result",
          "data": {
            "application/vnd.google.colaboratory.intrinsic+json": {
              "type": "string"
            },
            "text/plain": [
              "\"Enya is one of a few artists whom I consider successful at creating this type of electronic atmospheric and dreamlike music. For certain, The Memory Of Trees is melodic, romantic and sensuous. Roma Ryan's lyrics, sung in  Gaelic by Enya (Athair Ar Neamh), float gently like pillow-soft white  clouds. The compositions are relaxing and harmonious (Tea House Moon),  dreamlike and filled with mystery (Once You Had Gold), and include subtle  touches of Celtic tradition (Enya's phrasing on `Hope Has A Place'). The CD  is a quiet and lush alternative to ninety-percent of the popular music on  the market today, and also a welcome substitute for the often hectic pace  of daily life. Enya's arrangement of the compositions on Memory is well  thought - the comparatively dramatic and uplifting `Anywhere Is' and `On My  Way Home' are placed so that the listener doesn't fall asleep.However,  I'm very leery when I read a dozen reviews of a particular musical release,  and all the writers rate the artist's work with five-stars. My hesitation  is not a matter of taste (listeners are free to condemn or rave about  whatever they please), but one of perspective. Is The Memory Of Trees a  musical ground breaking effort? Does it introduce a unique technique or  significantly alter a current genre of popular music? On close listening,  the electronic pseudo-symphonic music of Memory does not approach the  beauty or dynamics of an orchestra with real people playing real  instruments. Nor does Enya's multi-layering of her own voice have the same  rich sonic texture as a chorus comprised of real voices. Then again,  perhaps The Memory Of Trees (and all of Enya's work) is so provocatively  ethereal because it is surreal.\""
            ]
          },
          "metadata": {},
          "execution_count": 69
        }
      ]
    },
    {
      "cell_type": "code",
      "source": [
        "data['reviewText_prep'][6]"
      ],
      "metadata": {
        "colab": {
          "base_uri": "https://localhost:8080/",
          "height": 140
        },
        "id": "Ci3szaIX8tCP",
        "outputId": "664cecf7-c49f-48a1-bc68-1679ea0549ab"
      },
      "execution_count": 70,
      "outputs": [
        {
          "output_type": "execute_result",
          "data": {
            "application/vnd.google.colaboratory.intrinsic+json": {
              "type": "string"
            },
            "text/plain": [
              "'enya one artist i consider successful creating type electronic atmospheric dreamlike music for certain the memory of trees melodic romantic sensuous roma ryan lyric sung gaelic enya athair ar neamh float gently like pillow soft white cloud the composition relaxing harmonious tea house moon dreamlike filled mystery once you had gold include subtle touch celtic tradition enya phrasing hope has a place the cd quiet lush alternative ninety percent popular music market today also welcome substitute often hectic pace daily life enya arrangement composition memory well thought comparatively dramatic uplifting anywhere is on my way home placed listener fall asleep however i leery i read dozen review particular musical release writer rate artist work five star my hesitation matter taste listener free condemn rave whatever please one perspective is the memory of trees musical ground breaking effort does introduce unique technique significantly alter current genre popular music on close listening electronic pseudo symphonic music memory approach beauty dynamic orchestra real people playing real instrument nor enya multi layering voice rich sonic texture chorus comprised real voice then perhaps the memory of trees enya work provocatively ethereal surreal'"
            ]
          },
          "metadata": {},
          "execution_count": 70
        }
      ]
    },
    {
      "cell_type": "markdown",
      "source": [
        "# **3. Entrenamiento y testeo de dos modelos de análisis de sentimiento**"
      ],
      "metadata": {
        "id": "staAVrwhJoBA"
      }
    },
    {
      "cell_type": "markdown",
      "source": [
        "Se divide el dataset en el conjunto de entrenamiento y el de test con los siguientes argumentos:\n",
        "- Se destina el 75% de los datos para el entrenamiento y el 25% restante para el test.\n",
        "- Se establece una semilla. \n",
        "- Se habilita el parámetro shuffle para desordenar los registros previamente. \n",
        "- Al parámetro stratify se le asigna la característica 'sentiment_label' del dataset para que se realice la división manteniendo la misma proporción de valores que tenían en la característica objetivo."
      ],
      "metadata": {
        "id": "Cm3ate99yZWe"
      }
    },
    {
      "cell_type": "code",
      "source": [
        "from sklearn.model_selection import train_test_split\n",
        "\n",
        "X_train, X_test, y_train, y_test = train_test_split(\n",
        "    data['reviewText_prep'],\n",
        "    data['sentiment_label'],\n",
        "    train_size=0.75,\n",
        "    test_size=0.25,\n",
        "    random_state=42,\n",
        "    shuffle=True,\n",
        "    stratify = data['sentiment_label']\n",
        ")"
      ],
      "metadata": {
        "id": "kBPq8fNCyViG"
      },
      "execution_count": 71,
      "outputs": []
    },
    {
      "cell_type": "markdown",
      "source": [
        "Se realiza la extracción de características mediante TfidVectorizer, al cual se le pasan los siguientes argumentos:\n",
        "- Se extraen valores de 1 a 3 n-gramas.\n",
        "- Se ignoran los términos que poseen una frecuencia mayor que el 95%.\n",
        "- Se ignoran los tokens que poseen una frecuencia menor de 3 veces.\n",
        "- Se establece un número máximo de características del vocabulario de 30000."
      ],
      "metadata": {
        "id": "kbw6q0Pi6TK8"
      }
    },
    {
      "cell_type": "code",
      "source": [
        "from sklearn.feature_extraction.text import TfidfVectorizer\n",
        "\n",
        "vec = TfidfVectorizer(\n",
        "    ngram_range=(1, 3),\n",
        "    max_df=0.95,\n",
        "    min_df=3,\n",
        "    max_features=30000\n",
        ")\n",
        "vec.fit(X_train)"
      ],
      "metadata": {
        "colab": {
          "base_uri": "https://localhost:8080/"
        },
        "id": "2P3xsLa57n-7",
        "outputId": "e2c74bf6-85fd-4277-9694-3bbf6caac827"
      },
      "execution_count": 72,
      "outputs": [
        {
          "output_type": "execute_result",
          "data": {
            "text/plain": [
              "TfidfVectorizer(max_df=0.95, max_features=30000, min_df=3, ngram_range=(1, 3))"
            ]
          },
          "metadata": {},
          "execution_count": 72
        }
      ]
    },
    {
      "cell_type": "code",
      "source": [
        "len(vec.vocabulary_.items())"
      ],
      "metadata": {
        "colab": {
          "base_uri": "https://localhost:8080/"
        },
        "id": "_IjMzn9c-sCG",
        "outputId": "882b06fe-3181-4173-e63c-15d311772da5"
      },
      "execution_count": 73,
      "outputs": [
        {
          "output_type": "execute_result",
          "data": {
            "text/plain": [
              "30000"
            ]
          },
          "metadata": {},
          "execution_count": 73
        }
      ]
    },
    {
      "cell_type": "code",
      "source": [
        "X_train_ = vec.transform(X_train)\n",
        "X_test_ = vec.transform(X_test)"
      ],
      "metadata": {
        "id": "WwfQLW2v-3Wk"
      },
      "execution_count": 74,
      "outputs": []
    },
    {
      "cell_type": "markdown",
      "source": [
        "Se realiza el entrenamiento de los modelos. \n",
        "\n",
        "Primero se aplica la Regresión logística."
      ],
      "metadata": {
        "id": "ZOJk2wuz_Nbi"
      }
    },
    {
      "cell_type": "code",
      "source": [
        "from sklearn.linear_model import LogisticRegression\n",
        "from sklearn.metrics import accuracy_score\n",
        "\n",
        "c_params = [0.01, 0.05, 0.25, 0.5, 1, 10, 100]\n",
        "\n",
        "train_acc = list()\n",
        "test_acc = list()\n",
        "for c in c_params:\n",
        "    lr = LogisticRegression(C=c, solver='lbfgs', max_iter=500)\n",
        "    lr.fit(X_train_, y_train)\n",
        "    \n",
        "    lr_train_predict = lr.predict(X_train_)\n",
        "    lr_test_predict = lr.predict(X_test_)\n",
        "    \n",
        "    print (\"Accuracy for C={} - train:{} - test:{}\".format(c, accuracy_score(y_train, lr_train_predict), accuracy_score(y_test, lr_test_predict)))\n",
        "    \n",
        "    train_acc.append(accuracy_score(y_train, lr_train_predict))\n",
        "    test_acc.append(accuracy_score(y_test, lr_test_predict))"
      ],
      "metadata": {
        "colab": {
          "base_uri": "https://localhost:8080/"
        },
        "id": "A2DmToZS_eIE",
        "outputId": "88ba79c6-ea4a-4e08-94b9-9de83948d8ed"
      },
      "execution_count": 75,
      "outputs": [
        {
          "output_type": "stream",
          "name": "stdout",
          "text": [
            "Accuracy for C=0.01 - train:0.7826736730463288 - test:0.7839479392624729\n",
            "Accuracy for C=0.05 - train:0.839704960709637 - test:0.8396240057845263\n",
            "Accuracy for C=0.25 - train:0.8898905654919732 - test:0.8724511930585683\n",
            "Accuracy for C=0.5 - train:0.9107168683411271 - test:0.883297180043384\n",
            "Accuracy for C=1 - train:0.9296148098153594 - test:0.8908170643528561\n",
            "Accuracy for C=10 - train:0.9912741647784795 - test:0.8984815618221258\n",
            "Accuracy for C=100 - train:0.9999517909656269 - test:0.8922631959508315\n"
          ]
        }
      ]
    },
    {
      "cell_type": "markdown",
      "source": [
        "Después se aplica el clasificador de gradient boosting."
      ],
      "metadata": {
        "id": "T3GsIFG6C276"
      }
    },
    {
      "cell_type": "code",
      "source": [
        "from sklearn.ensemble import GradientBoostingClassifier\n",
        "\n",
        "gbc = GradientBoostingClassifier(n_estimators=32, learning_rate=1.0, max_depth=1, random_state=42)\n",
        "\n",
        "gbc.fit(X_train_, y_train)\n",
        "\n",
        "gbc_train_predict = gbc.predict(X_train_)\n",
        "gbc_test_predict = gbc.predict(X_test_)\n",
        "\n",
        "print(\"[{}] Accuracy: train = {}, test = {}\".format(\n",
        "        gbc.__class__.__name__,\n",
        "        gbc.score(X_train_, y_train),\n",
        "        gbc.score(X_test_, y_test)))"
      ],
      "metadata": {
        "colab": {
          "base_uri": "https://localhost:8080/"
        },
        "id": "KfTnLX2iGR5s",
        "outputId": "1c274096-3ea7-4915-d401-547f9ce11ad4"
      },
      "execution_count": 76,
      "outputs": [
        {
          "output_type": "stream",
          "name": "stdout",
          "text": [
            "[GradientBoostingClassifier] Accuracy: train = 0.772260521621752, test = 0.7694866232827188\n"
          ]
        }
      ]
    },
    {
      "cell_type": "markdown",
      "source": [
        "Se van a calcular las métricas de ambos modelos para poder analizar y comparar los resultados."
      ],
      "metadata": {
        "id": "DSJ7NknGJ8mZ"
      }
    },
    {
      "cell_type": "code",
      "source": [
        "from sklearn.metrics import confusion_matrix, classification_report\n",
        "\n",
        "print('Logistic Regression - Confussion matrix:\\n{}'.format(confusion_matrix(y_test, lr_test_predict)))\n",
        "print('\\nLogistic Regression - Classification report:\\n{}'.format(classification_report(y_test, lr_test_predict)))\n",
        "print('Logistic Regression - Accuracy score:{}'.format(accuracy_score(y_test, lr_test_predict)))"
      ],
      "metadata": {
        "colab": {
          "base_uri": "https://localhost:8080/"
        },
        "id": "Q5sop-nqKTDb",
        "outputId": "e93a2b33-b6cc-41d8-bf1d-744f19aeb081"
      },
      "execution_count": 77,
      "outputs": [
        {
          "output_type": "stream",
          "name": "stdout",
          "text": [
            "Logistic Regression - Confussion matrix:\n",
            "[[3056  402]\n",
            " [ 343 3114]]\n",
            "\n",
            "Logistic Regression - Classification report:\n",
            "              precision    recall  f1-score   support\n",
            "\n",
            "           0       0.90      0.88      0.89      3458\n",
            "           1       0.89      0.90      0.89      3457\n",
            "\n",
            "    accuracy                           0.89      6915\n",
            "   macro avg       0.89      0.89      0.89      6915\n",
            "weighted avg       0.89      0.89      0.89      6915\n",
            "\n",
            "Logistic Regression - Accuracy score:0.8922631959508315\n"
          ]
        }
      ]
    },
    {
      "cell_type": "code",
      "source": [
        "print('Gradient Boosting - Confussion matrix:\\n{}'.format(confusion_matrix(y_test, gbc_test_predict)))\n",
        "print('\\nGradient Boosting - Classification report:\\n{}'.format(classification_report(y_test, gbc_test_predict)))\n",
        "print('Gradient Boosting - Accuracy score:{}'.format(accuracy_score(y_test, gbc_test_predict)))"
      ],
      "metadata": {
        "colab": {
          "base_uri": "https://localhost:8080/"
        },
        "id": "r1ujlDiHLK9k",
        "outputId": "03bf1d71-d388-4cb8-e0b9-64a078514f35"
      },
      "execution_count": 78,
      "outputs": [
        {
          "output_type": "stream",
          "name": "stdout",
          "text": [
            "Gradient Boosting - Confussion matrix:\n",
            "[[2703  755]\n",
            " [ 839 2618]]\n",
            "\n",
            "Gradient Boosting - Classification report:\n",
            "              precision    recall  f1-score   support\n",
            "\n",
            "           0       0.76      0.78      0.77      3458\n",
            "           1       0.78      0.76      0.77      3457\n",
            "\n",
            "    accuracy                           0.77      6915\n",
            "   macro avg       0.77      0.77      0.77      6915\n",
            "weighted avg       0.77      0.77      0.77      6915\n",
            "\n",
            "Gradient Boosting - Accuracy score:0.7694866232827188\n"
          ]
        }
      ]
    },
    {
      "cell_type": "markdown",
      "source": [
        "Como se puede observar en los resultados de las métricas, el modelo que ofrece mejores resultados, tanto en precision, como en recall y f1-score es el de la **Regresión Logística**.\n",
        "\n",
        "Se han utilizado dos modelos sencillos, que se ejecutan muy rápidamente y, sobre todo el de la regresión logística, ofrece unos buenos resultados.\n",
        "\n",
        "Sería muy interesante probar algún modelo de deep learning, sobre todo para ver si ofrecía mejores resultados que el de la regresión logística, pero por limitaciones de tiempo no se ha podido abordar en esta práctica."
      ],
      "metadata": {
        "id": "TJ8aSbKYQf87"
      }
    },
    {
      "cell_type": "markdown",
      "source": [
        "# **4. Reporte de métricas y conclusiones**"
      ],
      "metadata": {
        "id": "gpY2c3pwTP1V"
      }
    },
    {
      "cell_type": "markdown",
      "source": [
        "En el paso anterior se ha determinado que el modelo que tenía mejores resultados era el de la Regresión Logística. En este paso se van a analizar los valores obtenidos en las métricas de dicho modelo."
      ],
      "metadata": {
        "id": "aCU1eJtL33pa"
      }
    },
    {
      "cell_type": "code",
      "source": [
        "import matplotlib.pyplot as plt\n",
        "\n",
        "conf_matrix = confusion_matrix(y_test, lr_test_predict)\n",
        "\n",
        "fig, ax = plt.subplots(figsize=(5, 5))\n",
        "ax.matshow(conf_matrix, cmap=plt.cm.Oranges, alpha=0.3)\n",
        "for i in range(conf_matrix.shape[0]):\n",
        "    for j in range(conf_matrix.shape[1]):\n",
        "        ax.text(x=j, y=i,s=conf_matrix[i, j], va='center', ha='center', size='xx-large')\n",
        " \n",
        "plt.xlabel('Predictions', fontsize=18)\n",
        "plt.ylabel('Actuals', fontsize=18)\n",
        "plt.title('Logistic Regression - Confusion Matrix', fontsize=18)\n",
        "plt.show()"
      ],
      "metadata": {
        "colab": {
          "base_uri": "https://localhost:8080/",
          "height": 358
        },
        "id": "BjabkS512maW",
        "outputId": "9e6e50e4-9e8d-40ca-c83a-d64c4874dd0c"
      },
      "execution_count": 79,
      "outputs": [
        {
          "output_type": "display_data",
          "data": {
            "image/png": "[encoded data removed]",
            "text/plain": [
              "<Figure size 360x360 with 1 Axes>"
            ]
          },
          "metadata": {
            "needs_background": "light"
          }
        }
      ]
    },
    {
      "cell_type": "markdown",
      "source": [
        "En la matriz de confusión se observa qué tipo de errores se cometen. Los valores obtenidos son: \n",
        "- TN = 3056 (se ha predecido 0 y ha acertado)\n",
        "- FN = 343 (se ha predecido 0 y en realidad era 1)\n",
        "- FP = 402 (se ha predecido 1 y en realidad era 0)\n",
        "- TP = 3114 (se ha predecido 1 y ha acertado)"
      ],
      "metadata": {
        "id": "gPRBY50B6g6Z"
      }
    },
    {
      "cell_type": "code",
      "source": [
        "print('\\nLogistic Regression - Classification report:\\n{}'.format(classification_report(y_test, lr_test_predict)))\n",
        "print('Logistic Regression - Accuracy score:{}'.format(accuracy_score(y_test, lr_test_predict)))"
      ],
      "metadata": {
        "colab": {
          "base_uri": "https://localhost:8080/"
        },
        "id": "4l_eoyPx5Vdr",
        "outputId": "ca9aa2ec-2f67-419d-d1e7-789dac0f3261"
      },
      "execution_count": 80,
      "outputs": [
        {
          "output_type": "stream",
          "name": "stdout",
          "text": [
            "\n",
            "Logistic Regression - Classification report:\n",
            "              precision    recall  f1-score   support\n",
            "\n",
            "           0       0.90      0.88      0.89      3458\n",
            "           1       0.89      0.90      0.89      3457\n",
            "\n",
            "    accuracy                           0.89      6915\n",
            "   macro avg       0.89      0.89      0.89      6915\n",
            "weighted avg       0.89      0.89      0.89      6915\n",
            "\n",
            "Logistic Regression - Accuracy score:0.8922631959508315\n"
          ]
        }
      ]
    },
    {
      "cell_type": "markdown",
      "source": [
        "La métrica de **precision** (precisión) mide la calidad del modelo en tareas de clasificación. Se representa por la proporción de verdaderos positivos dividido entre todos los resultados positivos (tanto verdaderos positivos, como falsos positivos), es decir, es el porcentaje de casos positivos detectados, y se calcula como TP/(TP+FP), o lo que es lo mismo, la cantidad de positivos predecidos correctamente / todos los que se han predecido como positivos.\n",
        "\n",
        "La precision obtenida ha sido de 0.9 para las reviews negativas y de 0.89 para las positivas, por lo que se trata de valores similares y bastante buenos.\n",
        "\n",
        "La métrica de **recall** (exhaustividad o sensibilidad) indica la cantidad que el modelo es capaz de identificar. Se representa por la proporción de casos positivos que han sido correctamente identificados por el modelo. Se calcula como TP/(TP+FN), es decir, la cantidad de positivos predecidos correctamente / todos los que realmente son positivos.\n",
        "\n",
        "El recall obtenido ha sido de 0.88 para las reviews negativas y de 0.9 para las positivas. Al igual que en la precisión, se trata de valores similares y aceptables.\n",
        "\n",
        "La métrica de **f1-score** (valor-f) combina las métricas de precision y recall en un sólo valor. El cálculo se realiza haciendo la media armónica entre precision y recall. Esta métrica asume que precision y recall tienen la misma importancia, pero eso no siempre es así. Es de más utilidad cuando la distribución de las clases es desigual, en este caso, la distribución de las clases es igual, por lo que esta métrica no tiene mucha importancia aquí. Se calcula como 2 * (recall * precision) / (recall + precision).\n",
        "\n",
        "Los valores de f1-score han sido iguales para las reviews negativas y positivas, de 0.89. Pero tal y como se ha indicado anteriormente, esta métrica no tiene mucha importancia en este caso porque la distribución de clases es igual.\n",
        "\n",
        "La métrica de **accuracy** (exactitud) mide el porcentaje de casos en el que el modelo ha acertado, o sea, la cantidad de predicciones positivas que fueron correctas. Se representa como la proporción de resultados verdaderos (tanto TP como TN) dividido entre el número total de casos examinados(TP, FP, TN, FN), es decir, se calcula como (TP+TN)/(TP+FP+FN+TN).\n",
        "\n",
        "El accuracy obtenido es de 0.89, que considerando la simplicidad del modelo, se puede considerar como aceptable.\n",
        "\n",
        "## **Conclusiones**\n",
        "Se puede observar que los valores obtenidos en las diferentes métricas son similares y bastante aceptables para ambas clases (entre 0.88 y 0.9), lo que indica que el modelo de Regresión Logística funciona bien en las dos clases (0 = reviews negativas, y 1 = reviews positivas).\n",
        "\n",
        "Con un modelo sencillo y rápido de ejecutar se ha obtenido unos buenos resultados y superiores a los obtenidos en el modelo de Gradient Boosting.\n",
        "\n",
        "Sería interesante probar con diferentes modelos, sobre todo de redes neuronales, pero por falta de tiempo no se ha podido abordar en esta práctica."
      ],
      "metadata": {
        "id": "cAcbr2UYaLkO"
      }
    }
  ]
}